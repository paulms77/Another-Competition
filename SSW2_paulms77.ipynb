{
  "nbformat": 4,
  "nbformat_minor": 0,
  "metadata": {
    "colab": {
      "name": "SSW2_paulms77.ipynb",
      "provenance": [],
      "collapsed_sections": []
    },
    "kernelspec": {
      "name": "python3",
      "display_name": "Python 3"
    },
    "accelerator": "GPU"
  },
  "cells": [
    {
      "cell_type": "code",
      "metadata": {
        "id": "Xxwk0JQrULA1"
      },
      "source": [
        "import pandas as pd"
      ],
      "execution_count": null,
      "outputs": []
    },
    {
      "cell_type": "markdown",
      "metadata": {
        "id": "g87IT-8MAOu8"
      },
      "source": [
        "클래스 정의하기 class country:\n",
        "cn_name, cn_code, cn_gdp, ...등 국가의 코드 국가의 이름 GDP변화율 등 국가에 대한 정보들을 담기위해 클래스 변수 생성\n",
        "국가의 정보에 대한 인스턴스를 생성하고 호출하기위해서 생성자의 역할을 하는 (def __init__ ) 인스턴스 함수 생성 중간대체과제의 일부 코드를 위에서 만든 클래스 변수들을 이용해 코드 수정 후 기타 과제에 예외처리 기능 추가를 위해서 입력을 하는 곳(input(\"\")) 일부를 while 문을 활용해 예외처리 기능을 하는 코드를 추가\n",
        " "
      ]
    },
    {
      "cell_type": "code",
      "metadata": {
        "id": "G3Fr9StlP_iP"
      },
      "source": [
        "class country:\n",
        "  count = 0\n",
        "  cn_name = [] # Country name empty list\n",
        "  cn_gdp = [] # GDP empty empty list\n",
        "  cn_cpi = [] # CPI empty emtpy list\n",
        "  cn_pr = [] # Policy rate empty list\n",
        "  cn_uem = [] # Unemployment rate empty list\n",
        "  cn_code = [] # Country code empty list\n",
        "  def __init__(self,code,name,gdp,cpi,pr,uem):\n",
        "    self.code = code # 입력한 값을 빈 리스트에 추가하기위해 인스턴스 변수 생성 /이하동문\n",
        "    self.name = name\n",
        "    self.gdp = gdp\n",
        "    self.cpi = cpi\n",
        "    self.pr = pr\n",
        "    self.uem = uem    \n",
        "    country.count +=1\n",
        "    country.cn_name.append(self.name) # append 함수를 이용해 저장된 국가의 정보들을 저장하기 위해 코드 구현 /이하동문\n",
        "    country.cn_gdp.append(self.gdp)\n",
        "    country.cn_cpi.append(self.cpi)\n",
        "    country.cn_pr.append(self.pr)\n",
        "    country.cn_uem.append(self.uem)\n",
        "    country.cn_code.append(self.code)\n",
        "  \n",
        "  def program():\n",
        "    country1 = country(\"KR\",\"한국\",-2.90,0.95,0.50,3.10) # 국가의 코드 이름 통계량 등 정보들을 변수에 저장 /이하동문\n",
        "    country2 = country(\"CN\",\"중국\",3.20,2.39,3.85,3.84)\n",
        "    country3 = country(\"HK\",\"홍콩\",-9.00,-4.60,0.50,6.40)\n",
        "    country4 = country(\"US\",\"미국\",-9.00,1.37,0.13,7.90)\n",
        "    columns = ['한국','중국','홍콩','미국']\n",
        "    index = ['0.경제 성장, 분기 별 실질 GDP 변화율','1.인플레이션, CPI의 연간 퍼센트 변화','2.정책 비율, 퍼센트','3.실업률, 백분율']\n",
        "    data = [[-2.90,0.95,0.50,3.10],[3.20,2.39,3.85,3.84],[-9.00,-0.46,0.50,6.40],[-9.00,1.37,0.13,7.90]]\n",
        "    df = pd.DataFrame(data = data, columns = columns, index = index)\n",
        "    print('============ < MENU > ============')\n",
        "    print('0. 종료')\n",
        "    print('1. 기준 국가 별 통계량 검색하기')\n",
        "    print('2. 기준 국가 별 통계량 비교하기')\n",
        "    print('3. Data 추가/제거/수정하기')\n",
        "    print(\"==================================\")\n",
        "    rog = int(input(\"사용할 프로그램을 선택하세요..\"))\n",
        "    if rog == 0:\n",
        "      return display(df) # 0을 입력시 현재 국가들의 정보를 데이터 프레임 형태로 보여주고 프로그램 종료\n",
        "      print('본 프로그램을 종료합니다.')\n",
        "    elif rog == 1:\n",
        "      print('본 프로그램은 \"기준 국가 별 통계량 검색하기\"입니다.')\n",
        "      print('1. KR : 대한민국, 2. CN : 중국, HK : 3. 홍콩 4. US : 미국')\n",
        "      # while문을 활용한 예외처리 기능 추가1\n",
        "      # while문을 사용했기에 잘못 입력시 오류 메세지 출력 후 다시 입력창으로 이동\n",
        "      while True:\n",
        "        countrycode = (input('검색할 기준 국가의 코드를 선택하세요..'))\n",
        "        if countrycode == (country1.code or 1):\n",
        "          df1 = pd.DataFrame({'Code':country1.code,'Name':country1.name,'경제 성장, 분기 별 실질 GDP 변화율':country1.gdp,'인플레이션, CPI의 연간 퍼센트 변화':country1.cn_cpi,'정책 비율, 퍼센트':country1.pr,'실업률, 백분율':country1.uem})\n",
        "          display(df1.iloc[0])\n",
        "          break\n",
        "        elif countrycode == (country2.code or 2):\n",
        "          df2 = pd.DataFrame({'Code':country2.code,'Name':country2.name,'경제 성장, 분기 별 실질 GDP 변화율':country2.gdp,'인플레이션, CPI의 연간 퍼센트 변화':country2.cn_cpi,'정책 비율, 퍼센트':country2.pr,'실업률, 백분율':country2.uem})\n",
        "          display(df2.iloc[0])\n",
        "          break\n",
        "        elif countrycode == (country3.code or 3):\n",
        "          df3 = pd.DataFrame({'Code':country3.code,'Name':country3.name,'경제 성장, 분기 별 실질 GDP 변화율':country3.gdp,'인플레이션, CPI의 연간 퍼센트 변화':country3.cn_cpi,'정책 비율, 퍼센트':country3.pr,'실업률, 백분율':country3.uem})\n",
        "          display(df3.iloc[0])\n",
        "          break\n",
        "        elif countrycode == (country4.code or 4):\n",
        "          df4 = pd.DataFrame({'Code':country4.code,'Name':country4.name,'경제 성장, 분기 별 실질 GDP 변화율':country4.gdp,'인플레이션, CPI의 연간 퍼센트 변화':country4.cn_cpi,'정책 비율, 퍼센트':country4.pr,'실업률, 백분율':country4.uem})\n",
        "          display(df4.iloc[0])\n",
        "          break\n",
        "        else:\n",
        "          print('[경고!] 검색할 기준 국가의 코드를 잘못입력하였습니다. 기준 국가 코드: [KR : 대한민국, CN : 중국, HK : 홍콩, US : 미국]') # 오류 메세지\n",
        "    elif rog == 2:\n",
        "      print('본 프로그램은 \"기준 국가 별 통계량 비교하기\"입니다.')\n",
        "      print('기준 국가 코드: [KR : 대한민국, CN : 중국, HK : 홍콩, US : 미국]')\n",
        "      # while문을 활용한 예외처리 기능 추가2\n",
        "      # 기준 국가 코드 잘못 입력시 오류 메세지 출력 후 다시 입력창으로 이동\n",
        "      while True:\n",
        "        first_country = input('기준 국가 코드를 입력하세요.')\n",
        "        if first_country in country.cn_code:\n",
        "          break\n",
        "        else:\n",
        "          print('[경고!] 기준 국가 코드를 잘못 입력하였습니다. 기준 국가 코드: [KR : 대한민국, CN : 중국, HK : 홍콩, US : 미국]') # 오류 메세지\n",
        "      # while문을 활용한 예외처리 기능 추가3\n",
        "      # 비교할 기준 국가 코드 잘못 입력시 오류 메세지 출력 후 다시 입력창으로 이동\n",
        "      while True:\n",
        "        second_country = str(input('비교할 기준 국가 코드를 입력하세요'))\n",
        "        if second_country in country.cn_code:\n",
        "          break\n",
        "        else:\n",
        "          print('[경고!] 기준 국가 코드를 잘못 입력하였습니다. 기준 국가 코드: [KR : 대한민국, CN : 중국, HK : 홍콩, US : 미국]') # 오류 메세지\n",
        "      # while문을 활용한 예외처리 기능 추가4\n",
        "      # 비교할 기준 국가 통계량을 잘못 입력시 오류메세지 출력 후 다시 입력창으로 이동\n",
        "      print(index)\n",
        "      while True:\n",
        "        deff = str(input('비교할 기준 국가 통계량을 입력하세요'))\n",
        "        file = {'KR':0,'CN':1,'HK':2,'US':3}\n",
        "        #diff = str(abs(country.cn_gdp[file[first_country]]) - abs(country.cn_gdp[file[second_country]]))\n",
        "        #print(first_country+' 가'+second_country+' 보다'+diff+' 만큼 GDP가 높습니다.')\n",
        "        if deff == ('0' or file['KR']):\n",
        "          if abs(country.cn_gdp[file[first_country]]) > abs(country.cn_gdp[file[second_country]]):\n",
        "            diff = str(round(abs(abs(country.cn_gdp[file[first_country]]) - abs(country.cn_gdp[file[second_country]])),2))\n",
        "            print(country.cn_name[file[first_country]]+' 이 '+country.cn_name[file[second_country]]+' 보다 {}(이)가 '.format(index[0])+diff+' 높습니다.')\n",
        "            break\n",
        "          else:\n",
        "            diff = str(round(abs(abs(country.cn_gdp[file[second_country]]) - abs(country.cn_gdp[file[first_country]])),2))\n",
        "            print(country.cn_name[file[second_country]]+' 이 '+country.cn_name[file[first_country]]+' 보다 {}(이)가 '.format(index[0])+diff+' 높습니다.')\n",
        "            break\n",
        "        elif deff == ('1' or file['CN']):\n",
        "          if abs(country.cn_cpi[file[first_country]]) > abs(country.cn_cpi[file[second_country]]):\n",
        "            diff = str(round(abs(abs(country.cn_cpi[file[first_country]]) - abs(country.cn_cpi[file[second_country]])),2))\n",
        "            print(country.cn_name[file[first_country]]+' 이 '+country.cn_name[file[second_country]]+' 보다 {}(이)가 '.format(index[1])+diff+' 높습니다.')\n",
        "            break\n",
        "          else:\n",
        "            diff = str(round(abs(abs(country.cn_cpi[file[second_country]]) - abs(country.cn_cpi[file[first_country]])),2))\n",
        "            print(country.cn_name[file[second_country]]+' 이 '+country.cn_name[file[first_country]]+' 보다 {}(이)가 '.format(index[1])+diff+' 높습니다.')\n",
        "            break\n",
        "        elif deff == ('2' or file['HK']):\n",
        "          if abs(country.cn_pr[file[first_country]]) > abs(country.cn_pr[file[second_country]]):\n",
        "            diff = str(round(abs(abs(country.cn_pr[file[first_country]]) - abs(country.cn_pr[file[second_country]])),2))\n",
        "            print(country.cn_name[file[first_country]]+' 이 '+country.cn_name[file[second_country]]+' 보다 {}(이)가 '.format(index[2])+diff+' 높습니다.')\n",
        "            break\n",
        "          else:\n",
        "            diff = str(round(abs(abs(country.cn_pr[file[second_country]]) - abs(country.cn_pr[file[first_country]])),2))\n",
        "            print(country.cn_name[file[second_country]]+' 이 '+country.cn_name[file[first_country]]+' 보다 {}(이)가 '.format(index[2])+diff+' 높습니다.')\n",
        "            break\n",
        "        elif deff == ('3' or file['US']):\n",
        "          if abs(country.cn_uem[file[first_country]]) > abs(country.cn_uem[file[second_country]]):\n",
        "            diff = str(round(abs(abs(country.cn_uem[file[first_country]]) - abs(country.cn_uem[file[second_country]])),2))\n",
        "            print(country.cn_name[file[first_country]]+' 이 '+country.cn_name[file[second_country]]+' 보다 {}(이)가 '.format(index[3])+diff+' 높습니다.')\n",
        "            break\n",
        "          else:\n",
        "            diff = str(round(abs(abs(country.cn_uem[file[second_country]]) - abs(country.cn_uem[file[first_country]])),2))\n",
        "            print(country.cn_name[file[second_country]]+' 이 '+country.cn_name[file[first_country]]+' 보다 {}(이)가 '.format(index[3])+diff+' 높습니다.')\n",
        "            break\n",
        "        else:\n",
        "          print('[경고!] 기준 국가 통계량을 잘못 입력하였습니다. 기준 국가 통계량: ',index) # 오류 메세지\n",
        "    elif rog == 3:\n",
        "      def dml(): # 기능 사용 함수\n",
        "        print(\"============ < 기능 > ============\")\n",
        "        print(\"0.종료\")\n",
        "        print(\"1. Data 추가하기\")\n",
        "        print(\"2. Data 제거하기\")\n",
        "        print(\"3. Data 수정하기\")\n",
        "        print(\"==================================\")\n",
        "        choose = str(input(\"기능을 선택하세요..\")) # 기능 선택\n",
        "        if choose == ('0' or \"종료\"): # 0 또는 종료를 입력하면 현재 데이터 프레임을 보여주고 종료됨\n",
        "          return display(df)\n",
        "        if choose == ('1' or \"추가하기\"): # 0 또는 추가하기를 입력하면 Data 추가하기 기능으로 넘어감\n",
        "          country_code = str(input('추가할 기준 국가 코드를 입력하세요..'))\n",
        "          country_name = str(input(\"추가할 기준 국가 이름을 입력하세요..\")) # 추가할 기준 국가 이름 입력\n",
        "          print('[통계량 종류] : 0.경제 성장, 분기 별 실질 GDP 변화율, 1.인플레이션, CPI의 연간 퍼센트 변화, 2.정책 비율, 퍼센트, 3.실업률, 백분율')\n",
        "          statistic_value=[] # 추가할 값을 담는 리스트를 만듬\n",
        "          statistic_value.append(float(input(\"경제 성장, 분기 별 실질 GDP 변화율 통계량의 값을 입력하세요.\"))) # 추가할 해당 기준 국가에 첫번째값 입력\n",
        "          statistic_value.append(float(input(\"인플레이션, CPI의 연간 퍼센트 변화 통계량의 값을 입력하세요.\")))# 추가할 해당 기준 국가에 두번째값 입력\n",
        "          statistic_value.append(float(input(\"정책 비율, 퍼센트 통계량의 값을 입력하세요.\")))# 추가할 해당 기준 국가에 세번째값 입력\n",
        "          statistic_value.append(float(input(\"실업률, 백분율 통계량의 값을 입력하세요.\")))# 추가할 해당 기준 국가에 네번째값 입력\n",
        "          country5 = country(country_code,country_name,statistic_value[0],statistic_value[1],statistic_value[2],statistic_value[3])\n",
        "          df[country_name]=statistic_value # 위에서 입력한 기준 국가 이름과 기준 국가의 값들 추가 데이터 프레임에 추가\n",
        "          display(df)\n",
        "        if choose == ('2' or \"제거하기\"): # 2 또는 제거하기를 입력하면 Data 제거하기 기능이 실행됨\n",
        "          drop=str(input(\"제거할 기준 국가 이름(한국어)을 입력하세요..\")) # 제거할 국가를 입력하면 해당 국가는 제거됨\n",
        "          df.drop(drop,axis=1,inplace=True) # 해당 기준 국가는 제거됨\n",
        "          display(df)\n",
        "        if choose == ('3' or\"수정하기\"): # 3 또는 수정하기 를 입력하면 Data 수정하기 기능이 실행됨\n",
        "          change_name = str(input(\"수정할 기준 국가 이름(한국어)을 입력하세요\")) # 수정 할 국가를 입력\n",
        "          input_value1 = float(input(\"대체할 경제 성장, 분기 별 실질 GDP 변화율 통계량의 값을 입력하세요.\")) # 수정할 기준 국가의 첫번째 값입력\n",
        "          input_value2 = float(input(\"대체할 인플레이션, CPI의 연간 퍼센트 변화 통계량의 값을 입력하세요.\")) # 수정할 기준 국가의 두번째 값입력\n",
        "          input_value3 = float(input(\"대체할 정책 비율, 퍼센트 통계량의 값을 입력하세요.\")) # 수정할 기준 국가의 세번째 값입력\n",
        "          input_value4 = float(input(\"대체할 실업률, 백분율 통계량의 값을 입력하세요.\")) # 수정할 기준 국가의 네번째 값입력\n",
        "\n",
        "          update=[] # 수정할 값을 담는 리스트를 만듬\n",
        "          update.append(input_value1) # 리스트에 위에서 추가한 첫번째 값 추가\n",
        "          update.append(input_value2) # 리스트에 위에서 추가한 두번째 값 추가\n",
        "          update.append(input_value3) # 리스트에 위에서 추가한 세번째 값 추가\n",
        "          update.append(input_value4) # 리스트에 위에서 추가한 네번째 값 추가\n",
        "          df[change_name]=update # 해당 기준 국가의 값위에 수정할 값들을 덮어씌움\n",
        "          display(df)\n",
        "        # 재귀 기능 구현 (반복해서 프로그램을 실행할 수 있다.)\n",
        "        dml()\n",
        "      dml()\n",
        "    country.program()"
      ],
      "execution_count": null,
      "outputs": []
    },
    {
      "cell_type": "code",
      "metadata": {
        "colab": {
          "base_uri": "https://localhost:8080/",
          "height": 1000
        },
        "id": "7bjWYxL-lY_b",
        "outputId": "fd908cf4-b6b6-4a14-9b40-eabc0e137928"
      },
      "source": [
        "country.program()"
      ],
      "execution_count": null,
      "outputs": [
        {
          "output_type": "stream",
          "text": [
            "============ < MENU > ============\n",
            "0. 종료\n",
            "1. 기준 국가 별 통계량 검색하기\n",
            "2. 기준 국가 별 통계량 비교하기\n",
            "3. Data 추가/제거/수정하기\n",
            "==================================\n",
            "사용할 프로그램을 선택하세요..2\n",
            "본 프로그램은 \"기준 국가 별 통계량 비교하기\"입니다.\n",
            "기준 국가 코드: [KR : 대한민국, CN : 중국, HK : 홍콩, US : 미국]\n",
            "기준 국가 코드를 입력하세요.kr\n",
            "[경고!] 기준 국가 코드를 잘못 입력하였습니다. 기준 국가 코드: [KR : 대한민국, CN : 중국, HK : 홍콩, US : 미국]\n",
            "기준 국가 코드를 입력하세요.KR\n",
            "비교할 기준 국가 코드를 입력하세요hk\n",
            "[경고!] 기준 국가 코드를 잘못 입력하였습니다. 기준 국가 코드: [KR : 대한민국, CN : 중국, HK : 홍콩, US : 미국]\n",
            "비교할 기준 국가 코드를 입력하세요1k\n",
            "[경고!] 기준 국가 코드를 잘못 입력하였습니다. 기준 국가 코드: [KR : 대한민국, CN : 중국, HK : 홍콩, US : 미국]\n",
            "비교할 기준 국가 코드를 입력하세요HK\n",
            "['0.경제 성장, 분기 별 실질 GDP 변화율', '1.인플레이션, CPI의 연간 퍼센트 변화', '2.정책 비율, 퍼센트', '3.실업률, 백분율']\n",
            "비교할 기준 국가 통계량을 입력하세요f\n",
            "[경고!] 기준 국가 통계량을 잘못 입력하였습니다. 기준 국가 통계량:  ['0.경제 성장, 분기 별 실질 GDP 변화율', '1.인플레이션, CPI의 연간 퍼센트 변화', '2.정책 비율, 퍼센트', '3.실업률, 백분율']\n",
            "비교할 기준 국가 통계량을 입력하세요9\n",
            "[경고!] 기준 국가 통계량을 잘못 입력하였습니다. 기준 국가 통계량:  ['0.경제 성장, 분기 별 실질 GDP 변화율', '1.인플레이션, CPI의 연간 퍼센트 변화', '2.정책 비율, 퍼센트', '3.실업률, 백분율']\n",
            "비교할 기준 국가 통계량을 입력하세요3\n",
            "홍콩 이 한국 보다 3.실업률, 백분율(이)가 3.3 높습니다.\n",
            "============ < MENU > ============\n",
            "0. 종료\n",
            "1. 기준 국가 별 통계량 검색하기\n",
            "2. 기준 국가 별 통계량 비교하기\n",
            "3. Data 추가/제거/수정하기\n",
            "==================================\n",
            "사용할 프로그램을 선택하세요..2\n",
            "본 프로그램은 \"기준 국가 별 통계량 비교하기\"입니다.\n",
            "기준 국가 코드: [KR : 대한민국, CN : 중국, HK : 홍콩, US : 미국]\n",
            "기준 국가 코드를 입력하세요.hk\n",
            "[경고!] 기준 국가 코드를 잘못 입력하였습니다. 기준 국가 코드: [KR : 대한민국, CN : 중국, HK : 홍콩, US : 미국]\n",
            "기준 국가 코드를 입력하세요.KR\n",
            "비교할 기준 국가 코드를 입력하세요cn\n",
            "[경고!] 기준 국가 코드를 잘못 입력하였습니다. 기준 국가 코드: [KR : 대한민국, CN : 중국, HK : 홍콩, US : 미국]\n",
            "비교할 기준 국가 코드를 입력하세요9\n",
            "[경고!] 기준 국가 코드를 잘못 입력하였습니다. 기준 국가 코드: [KR : 대한민국, CN : 중국, HK : 홍콩, US : 미국]\n",
            "비교할 기준 국가 코드를 입력하세요CN\n",
            "['0.경제 성장, 분기 별 실질 GDP 변화율', '1.인플레이션, CPI의 연간 퍼센트 변화', '2.정책 비율, 퍼센트', '3.실업률, 백분율']\n",
            "비교할 기준 국가 통계량을 입력하세요7\n",
            "[경고!] 기준 국가 통계량을 잘못 입력하였습니다. 기준 국가 통계량:  ['0.경제 성장, 분기 별 실질 GDP 변화율', '1.인플레이션, CPI의 연간 퍼센트 변화', '2.정책 비율, 퍼센트', '3.실업률, 백분율']\n",
            "비교할 기준 국가 통계량을 입력하세요6\n",
            "[경고!] 기준 국가 통계량을 잘못 입력하였습니다. 기준 국가 통계량:  ['0.경제 성장, 분기 별 실질 GDP 변화율', '1.인플레이션, CPI의 연간 퍼센트 변화', '2.정책 비율, 퍼센트', '3.실업률, 백분율']\n",
            "비교할 기준 국가 통계량을 입력하세요0\n",
            "중국 이 한국 보다 0.경제 성장, 분기 별 실질 GDP 변화율(이)가 0.3 높습니다.\n",
            "============ < MENU > ============\n",
            "0. 종료\n",
            "1. 기준 국가 별 통계량 검색하기\n",
            "2. 기준 국가 별 통계량 비교하기\n",
            "3. Data 추가/제거/수정하기\n",
            "==================================\n",
            "사용할 프로그램을 선택하세요..3\n",
            "============ < 기능 > ============\n",
            "0.종료\n",
            "1. Data 추가하기\n",
            "2. Data 제거하기\n",
            "3. Data 수정하기\n",
            "==================================\n",
            "기능을 선택하세요..1\n",
            "추가할 기준 국가 코드를 입력하세요..JP\n",
            "추가할 기준 국가 이름을 입력하세요..일본\n",
            "[통계량 종류] : 0.경제 성장, 분기 별 실질 GDP 변화율, 1.인플레이션, CPI의 연간 퍼센트 변화, 2.정책 비율, 퍼센트, 3.실업률, 백분율\n",
            "경제 성장, 분기 별 실질 GDP 변화율 통계량의 값을 입력하세요.4.4\n",
            "인플레이션, CPI의 연간 퍼센트 변화 통계량의 값을 입력하세요.1.7\n",
            "정책 비율, 퍼센트 통계량의 값을 입력하세요.-1.9\n",
            "실업률, 백분율 통계량의 값을 입력하세요.-6.4\n"
          ],
          "name": "stdout"
        },
        {
          "output_type": "display_data",
          "data": {
            "text/html": [
              "<div>\n",
              "<style scoped>\n",
              "    .dataframe tbody tr th:only-of-type {\n",
              "        vertical-align: middle;\n",
              "    }\n",
              "\n",
              "    .dataframe tbody tr th {\n",
              "        vertical-align: top;\n",
              "    }\n",
              "\n",
              "    .dataframe thead th {\n",
              "        text-align: right;\n",
              "    }\n",
              "</style>\n",
              "<table border=\"1\" class=\"dataframe\">\n",
              "  <thead>\n",
              "    <tr style=\"text-align: right;\">\n",
              "      <th></th>\n",
              "      <th>한국</th>\n",
              "      <th>중국</th>\n",
              "      <th>홍콩</th>\n",
              "      <th>미국</th>\n",
              "      <th>일본</th>\n",
              "    </tr>\n",
              "  </thead>\n",
              "  <tbody>\n",
              "    <tr>\n",
              "      <th>0.경제 성장, 분기 별 실질 GDP 변화율</th>\n",
              "      <td>-2.9</td>\n",
              "      <td>0.95</td>\n",
              "      <td>0.50</td>\n",
              "      <td>3.10</td>\n",
              "      <td>4.4</td>\n",
              "    </tr>\n",
              "    <tr>\n",
              "      <th>1.인플레이션, CPI의 연간 퍼센트 변화</th>\n",
              "      <td>3.2</td>\n",
              "      <td>2.39</td>\n",
              "      <td>3.85</td>\n",
              "      <td>3.84</td>\n",
              "      <td>1.7</td>\n",
              "    </tr>\n",
              "    <tr>\n",
              "      <th>2.정책 비율, 퍼센트</th>\n",
              "      <td>-9.0</td>\n",
              "      <td>-0.46</td>\n",
              "      <td>0.50</td>\n",
              "      <td>6.40</td>\n",
              "      <td>-1.9</td>\n",
              "    </tr>\n",
              "    <tr>\n",
              "      <th>3.실업률, 백분율</th>\n",
              "      <td>-9.0</td>\n",
              "      <td>1.37</td>\n",
              "      <td>0.13</td>\n",
              "      <td>7.90</td>\n",
              "      <td>-6.4</td>\n",
              "    </tr>\n",
              "  </tbody>\n",
              "</table>\n",
              "</div>"
            ],
            "text/plain": [
              "                           한국    중국    홍콩    미국   일본\n",
              "0.경제 성장, 분기 별 실질 GDP 변화율 -2.9  0.95  0.50  3.10  4.4\n",
              "1.인플레이션, CPI의 연간 퍼센트 변화   3.2  2.39  3.85  3.84  1.7\n",
              "2.정책 비율, 퍼센트             -9.0 -0.46  0.50  6.40 -1.9\n",
              "3.실업률, 백분율               -9.0  1.37  0.13  7.90 -6.4"
            ]
          },
          "metadata": {
            "tags": []
          }
        },
        {
          "output_type": "stream",
          "text": [
            "============ < 기능 > ============\n",
            "0.종료\n",
            "1. Data 추가하기\n",
            "2. Data 제거하기\n",
            "3. Data 수정하기\n",
            "==================================\n",
            "기능을 선택하세요..2\n",
            "제거할 기준 국가 이름(한국어)을 입력하세요..일본\n"
          ],
          "name": "stdout"
        },
        {
          "output_type": "display_data",
          "data": {
            "text/html": [
              "<div>\n",
              "<style scoped>\n",
              "    .dataframe tbody tr th:only-of-type {\n",
              "        vertical-align: middle;\n",
              "    }\n",
              "\n",
              "    .dataframe tbody tr th {\n",
              "        vertical-align: top;\n",
              "    }\n",
              "\n",
              "    .dataframe thead th {\n",
              "        text-align: right;\n",
              "    }\n",
              "</style>\n",
              "<table border=\"1\" class=\"dataframe\">\n",
              "  <thead>\n",
              "    <tr style=\"text-align: right;\">\n",
              "      <th></th>\n",
              "      <th>한국</th>\n",
              "      <th>중국</th>\n",
              "      <th>홍콩</th>\n",
              "      <th>미국</th>\n",
              "    </tr>\n",
              "  </thead>\n",
              "  <tbody>\n",
              "    <tr>\n",
              "      <th>0.경제 성장, 분기 별 실질 GDP 변화율</th>\n",
              "      <td>-2.9</td>\n",
              "      <td>0.95</td>\n",
              "      <td>0.50</td>\n",
              "      <td>3.10</td>\n",
              "    </tr>\n",
              "    <tr>\n",
              "      <th>1.인플레이션, CPI의 연간 퍼센트 변화</th>\n",
              "      <td>3.2</td>\n",
              "      <td>2.39</td>\n",
              "      <td>3.85</td>\n",
              "      <td>3.84</td>\n",
              "    </tr>\n",
              "    <tr>\n",
              "      <th>2.정책 비율, 퍼센트</th>\n",
              "      <td>-9.0</td>\n",
              "      <td>-0.46</td>\n",
              "      <td>0.50</td>\n",
              "      <td>6.40</td>\n",
              "    </tr>\n",
              "    <tr>\n",
              "      <th>3.실업률, 백분율</th>\n",
              "      <td>-9.0</td>\n",
              "      <td>1.37</td>\n",
              "      <td>0.13</td>\n",
              "      <td>7.90</td>\n",
              "    </tr>\n",
              "  </tbody>\n",
              "</table>\n",
              "</div>"
            ],
            "text/plain": [
              "                           한국    중국    홍콩    미국\n",
              "0.경제 성장, 분기 별 실질 GDP 변화율 -2.9  0.95  0.50  3.10\n",
              "1.인플레이션, CPI의 연간 퍼센트 변화   3.2  2.39  3.85  3.84\n",
              "2.정책 비율, 퍼센트             -9.0 -0.46  0.50  6.40\n",
              "3.실업률, 백분율               -9.0  1.37  0.13  7.90"
            ]
          },
          "metadata": {
            "tags": []
          }
        },
        {
          "output_type": "stream",
          "text": [
            "============ < 기능 > ============\n",
            "0.종료\n",
            "1. Data 추가하기\n",
            "2. Data 제거하기\n",
            "3. Data 수정하기\n",
            "==================================\n",
            "기능을 선택하세요..3\n",
            "수정할 기준 국가 이름(한국어)을 입력하세요미국\n",
            "대체할 경제 성장, 분기 별 실질 GDP 변화율 통계량의 값을 입력하세요.4.10\n",
            "대체할 인플레이션, CPI의 연간 퍼센트 변화 통계량의 값을 입력하세요.3.8\n",
            "대체할 정책 비율, 퍼센트 통계량의 값을 입력하세요.1.2\n",
            "대체할 실업률, 백분율 통계량의 값을 입력하세요.-1.1\n"
          ],
          "name": "stdout"
        },
        {
          "output_type": "display_data",
          "data": {
            "text/html": [
              "<div>\n",
              "<style scoped>\n",
              "    .dataframe tbody tr th:only-of-type {\n",
              "        vertical-align: middle;\n",
              "    }\n",
              "\n",
              "    .dataframe tbody tr th {\n",
              "        vertical-align: top;\n",
              "    }\n",
              "\n",
              "    .dataframe thead th {\n",
              "        text-align: right;\n",
              "    }\n",
              "</style>\n",
              "<table border=\"1\" class=\"dataframe\">\n",
              "  <thead>\n",
              "    <tr style=\"text-align: right;\">\n",
              "      <th></th>\n",
              "      <th>한국</th>\n",
              "      <th>중국</th>\n",
              "      <th>홍콩</th>\n",
              "      <th>미국</th>\n",
              "    </tr>\n",
              "  </thead>\n",
              "  <tbody>\n",
              "    <tr>\n",
              "      <th>0.경제 성장, 분기 별 실질 GDP 변화율</th>\n",
              "      <td>-2.9</td>\n",
              "      <td>0.95</td>\n",
              "      <td>0.50</td>\n",
              "      <td>4.1</td>\n",
              "    </tr>\n",
              "    <tr>\n",
              "      <th>1.인플레이션, CPI의 연간 퍼센트 변화</th>\n",
              "      <td>3.2</td>\n",
              "      <td>2.39</td>\n",
              "      <td>3.85</td>\n",
              "      <td>3.8</td>\n",
              "    </tr>\n",
              "    <tr>\n",
              "      <th>2.정책 비율, 퍼센트</th>\n",
              "      <td>-9.0</td>\n",
              "      <td>-0.46</td>\n",
              "      <td>0.50</td>\n",
              "      <td>1.2</td>\n",
              "    </tr>\n",
              "    <tr>\n",
              "      <th>3.실업률, 백분율</th>\n",
              "      <td>-9.0</td>\n",
              "      <td>1.37</td>\n",
              "      <td>0.13</td>\n",
              "      <td>-1.1</td>\n",
              "    </tr>\n",
              "  </tbody>\n",
              "</table>\n",
              "</div>"
            ],
            "text/plain": [
              "                           한국    중국    홍콩   미국\n",
              "0.경제 성장, 분기 별 실질 GDP 변화율 -2.9  0.95  0.50  4.1\n",
              "1.인플레이션, CPI의 연간 퍼센트 변화   3.2  2.39  3.85  3.8\n",
              "2.정책 비율, 퍼센트             -9.0 -0.46  0.50  1.2\n",
              "3.실업률, 백분율               -9.0  1.37  0.13 -1.1"
            ]
          },
          "metadata": {
            "tags": []
          }
        },
        {
          "output_type": "stream",
          "text": [
            "============ < 기능 > ============\n",
            "0.종료\n",
            "1. Data 추가하기\n",
            "2. Data 제거하기\n",
            "3. Data 수정하기\n",
            "==================================\n",
            "기능을 선택하세요..0\n"
          ],
          "name": "stdout"
        },
        {
          "output_type": "display_data",
          "data": {
            "text/html": [
              "<div>\n",
              "<style scoped>\n",
              "    .dataframe tbody tr th:only-of-type {\n",
              "        vertical-align: middle;\n",
              "    }\n",
              "\n",
              "    .dataframe tbody tr th {\n",
              "        vertical-align: top;\n",
              "    }\n",
              "\n",
              "    .dataframe thead th {\n",
              "        text-align: right;\n",
              "    }\n",
              "</style>\n",
              "<table border=\"1\" class=\"dataframe\">\n",
              "  <thead>\n",
              "    <tr style=\"text-align: right;\">\n",
              "      <th></th>\n",
              "      <th>한국</th>\n",
              "      <th>중국</th>\n",
              "      <th>홍콩</th>\n",
              "      <th>미국</th>\n",
              "    </tr>\n",
              "  </thead>\n",
              "  <tbody>\n",
              "    <tr>\n",
              "      <th>0.경제 성장, 분기 별 실질 GDP 변화율</th>\n",
              "      <td>-2.9</td>\n",
              "      <td>0.95</td>\n",
              "      <td>0.50</td>\n",
              "      <td>4.1</td>\n",
              "    </tr>\n",
              "    <tr>\n",
              "      <th>1.인플레이션, CPI의 연간 퍼센트 변화</th>\n",
              "      <td>3.2</td>\n",
              "      <td>2.39</td>\n",
              "      <td>3.85</td>\n",
              "      <td>3.8</td>\n",
              "    </tr>\n",
              "    <tr>\n",
              "      <th>2.정책 비율, 퍼센트</th>\n",
              "      <td>-9.0</td>\n",
              "      <td>-0.46</td>\n",
              "      <td>0.50</td>\n",
              "      <td>1.2</td>\n",
              "    </tr>\n",
              "    <tr>\n",
              "      <th>3.실업률, 백분율</th>\n",
              "      <td>-9.0</td>\n",
              "      <td>1.37</td>\n",
              "      <td>0.13</td>\n",
              "      <td>-1.1</td>\n",
              "    </tr>\n",
              "  </tbody>\n",
              "</table>\n",
              "</div>"
            ],
            "text/plain": [
              "                           한국    중국    홍콩   미국\n",
              "0.경제 성장, 분기 별 실질 GDP 변화율 -2.9  0.95  0.50  4.1\n",
              "1.인플레이션, CPI의 연간 퍼센트 변화   3.2  2.39  3.85  3.8\n",
              "2.정책 비율, 퍼센트             -9.0 -0.46  0.50  1.2\n",
              "3.실업률, 백분율               -9.0  1.37  0.13 -1.1"
            ]
          },
          "metadata": {
            "tags": []
          }
        },
        {
          "output_type": "stream",
          "text": [
            "============ < MENU > ============\n",
            "0. 종료\n",
            "1. 기준 국가 별 통계량 검색하기\n",
            "2. 기준 국가 별 통계량 비교하기\n",
            "3. Data 추가/제거/수정하기\n",
            "==================================\n",
            "사용할 프로그램을 선택하세요..0\n"
          ],
          "name": "stdout"
        },
        {
          "output_type": "display_data",
          "data": {
            "text/html": [
              "<div>\n",
              "<style scoped>\n",
              "    .dataframe tbody tr th:only-of-type {\n",
              "        vertical-align: middle;\n",
              "    }\n",
              "\n",
              "    .dataframe tbody tr th {\n",
              "        vertical-align: top;\n",
              "    }\n",
              "\n",
              "    .dataframe thead th {\n",
              "        text-align: right;\n",
              "    }\n",
              "</style>\n",
              "<table border=\"1\" class=\"dataframe\">\n",
              "  <thead>\n",
              "    <tr style=\"text-align: right;\">\n",
              "      <th></th>\n",
              "      <th>한국</th>\n",
              "      <th>중국</th>\n",
              "      <th>홍콩</th>\n",
              "      <th>미국</th>\n",
              "    </tr>\n",
              "  </thead>\n",
              "  <tbody>\n",
              "    <tr>\n",
              "      <th>0.경제 성장, 분기 별 실질 GDP 변화율</th>\n",
              "      <td>-2.9</td>\n",
              "      <td>0.95</td>\n",
              "      <td>0.50</td>\n",
              "      <td>3.10</td>\n",
              "    </tr>\n",
              "    <tr>\n",
              "      <th>1.인플레이션, CPI의 연간 퍼센트 변화</th>\n",
              "      <td>3.2</td>\n",
              "      <td>2.39</td>\n",
              "      <td>3.85</td>\n",
              "      <td>3.84</td>\n",
              "    </tr>\n",
              "    <tr>\n",
              "      <th>2.정책 비율, 퍼센트</th>\n",
              "      <td>-9.0</td>\n",
              "      <td>-0.46</td>\n",
              "      <td>0.50</td>\n",
              "      <td>6.40</td>\n",
              "    </tr>\n",
              "    <tr>\n",
              "      <th>3.실업률, 백분율</th>\n",
              "      <td>-9.0</td>\n",
              "      <td>1.37</td>\n",
              "      <td>0.13</td>\n",
              "      <td>7.90</td>\n",
              "    </tr>\n",
              "  </tbody>\n",
              "</table>\n",
              "</div>"
            ],
            "text/plain": [
              "                           한국    중국    홍콩    미국\n",
              "0.경제 성장, 분기 별 실질 GDP 변화율 -2.9  0.95  0.50  3.10\n",
              "1.인플레이션, CPI의 연간 퍼센트 변화   3.2  2.39  3.85  3.84\n",
              "2.정책 비율, 퍼센트             -9.0 -0.46  0.50  6.40\n",
              "3.실업률, 백분율               -9.0  1.37  0.13  7.90"
            ]
          },
          "metadata": {
            "tags": []
          }
        }
      ]
    },
    {
      "cell_type": "code",
      "metadata": {
        "colab": {
          "base_uri": "https://localhost:8080/"
        },
        "id": "2wlR3PDlRjJS",
        "outputId": "7106ba01-fab9-41eb-e34a-6ae9134e0379"
      },
      "source": [
        "while True:\n",
        "  code1 = input('기준 국가 코드를 입력하세요.')\n",
        "  if code1 in country.cn_code:\n",
        "    break\n",
        "  else:\n",
        "    print('기준 국가 코드를 잘못 입력하였습니다. 국가 코드: ',country.cn_code)"
      ],
      "execution_count": null,
      "outputs": [
        {
          "output_type": "stream",
          "text": [
            "기준 국가 코드를 입력하세요.a\n",
            "기준 국가 코드를 잘못 입력하였습니다. 국가 코드:  ['KR', 'CN', 'HK', 'US']\n",
            "기준 국가 코드를 입력하세요.KR\n"
          ],
          "name": "stdout"
        }
      ]
    },
    {
      "cell_type": "code",
      "metadata": {
        "colab": {
          "base_uri": "https://localhost:8080/"
        },
        "id": "xEvpC17_ScGq",
        "outputId": "e0c58df9-0023-48e4-8211-7744461d2788"
      },
      "source": [
        "while True:\n",
        "  code2 = input('기준 국가 코드를 입력하세요.')\n",
        "  if code2 in country.cn_code:\n",
        "    break\n",
        "  else:\n",
        "    print('기준 국가 코드를 잘못 입력하였습니다. 국가 코드: ',country.cn_code)"
      ],
      "execution_count": null,
      "outputs": [
        {
          "output_type": "stream",
          "text": [
            "기준 국가 코드를 입력하세요.a\n",
            "기준 국가 코드를 잘못 입력하였습니다. 국가 코드:  ['KR', 'CN', 'HK', 'US']\n",
            "기준 국가 코드를 입력하세요.a\n",
            "기준 국가 코드를 잘못 입력하였습니다. 국가 코드:  ['KR', 'CN', 'HK', 'US']\n",
            "기준 국가 코드를 입력하세요.KR\n"
          ],
          "name": "stdout"
        }
      ]
    },
    {
      "cell_type": "code",
      "metadata": {
        "colab": {
          "base_uri": "https://localhost:8080/"
        },
        "id": "_jMWNjyMS9PU",
        "outputId": "bc956bbb-7798-4627-d3a5-ab2a34a1c4a9"
      },
      "source": [
        "country.cn_gdp"
      ],
      "execution_count": null,
      "outputs": [
        {
          "output_type": "execute_result",
          "data": {
            "text/plain": [
              "[-2.9, 3.2, -9.0, -9.0]"
            ]
          },
          "metadata": {
            "tags": []
          },
          "execution_count": 54
        }
      ]
    },
    {
      "cell_type": "code",
      "metadata": {
        "id": "X4PLmWISTjTx"
      },
      "source": [
        "country1 = country(\"KR\",\"한국\",-2.90,0.95,0.50,3.10)\n",
        "country2 = country(\"CN\",\"중국\",3.20,2.39,3.85,3.84)\n",
        "country3 = country(\"HK\",\"홍콩\",-9.00,-4.60,0.50,6.40)\n",
        "country4 = country(\"US\",\"미국\",-9.00,1.37,0.13,7.90)"
      ],
      "execution_count": null,
      "outputs": []
    },
    {
      "cell_type": "code",
      "metadata": {
        "colab": {
          "base_uri": "https://localhost:8080/"
        },
        "id": "9SMz0lJoSY9L",
        "outputId": "16cc39dd-a4b0-4fd5-ebcf-810eee9099e2"
      },
      "source": [
        "try:\n",
        "  diff = country.cn_gdp[code1] - country.cn_gdp[code2]\n",
        "  print('국가 간의 GDP변화율 차이는 '+diff+' 입니다')\n",
        "except:\n",
        "  print('국가 코드를 잘못 입력하였습니다.')"
      ],
      "execution_count": null,
      "outputs": [
        {
          "output_type": "stream",
          "text": [
            "국가 코드를 잘못 입력하였습니다.\n"
          ],
          "name": "stdout"
        }
      ]
    },
    {
      "cell_type": "code",
      "metadata": {
        "colab": {
          "base_uri": "https://localhost:8080/"
        },
        "id": "1H3CdAI2X_t4",
        "outputId": "e92e7261-1749-47b2-eb46-dcb67516e5bb"
      },
      "source": [
        "country.cn_code"
      ],
      "execution_count": null,
      "outputs": [
        {
          "output_type": "execute_result",
          "data": {
            "text/plain": [
              "['KR', 'CN', 'HK', 'US']"
            ]
          },
          "metadata": {
            "tags": []
          },
          "execution_count": 41
        }
      ]
    },
    {
      "cell_type": "code",
      "metadata": {
        "colab": {
          "base_uri": "https://localhost:8080/"
        },
        "id": "BN5V0lEVXMwQ",
        "outputId": "3cbfd743-6d40-4e9b-d7ff-53b9593a591a"
      },
      "source": [
        "country1.cn_gdp"
      ],
      "execution_count": null,
      "outputs": [
        {
          "output_type": "execute_result",
          "data": {
            "text/plain": [
              "[-2.9, 3.2, -9.0, -9.0]"
            ]
          },
          "metadata": {
            "tags": []
          },
          "execution_count": 5
        }
      ]
    },
    {
      "cell_type": "code",
      "metadata": {
        "id": "U-pC-StjwNdg"
      },
      "source": [
        ""
      ],
      "execution_count": null,
      "outputs": []
    }
  ]
}