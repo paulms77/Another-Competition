{
  "nbformat": 4,
  "nbformat_minor": 0,
  "metadata": {
    "colab": {
      "name": "AICompetition2021.ipynb",
      "provenance": [],
      "collapsed_sections": []
    },
    "kernelspec": {
      "name": "python3",
      "display_name": "Python 3"
    },
    "language_info": {
      "name": "python"
    },
    "accelerator": "GPU"
  },
  "cells": [
    {
      "cell_type": "code",
      "metadata": {
        "id": "FjWSYulYvoKt"
      },
      "source": [
        "import numpy as np\n",
        "import pandas as pd\n",
        "import seaborn as sns\n",
        "import matplotlib.pyplot as plt"
      ],
      "execution_count": null,
      "outputs": []
    },
    {
      "cell_type": "markdown",
      "metadata": {
        "id": "8ZjO6Agppun0"
      },
      "source": [
        "# 데이터 확인"
      ]
    },
    {
      "cell_type": "code",
      "metadata": {
        "id": "-PbWtsGco93h"
      },
      "source": [
        "train = pd.read_csv('train.csv')\n",
        "test = pd.read_csv('test.csv')\n",
        "submission = pd.read_csv('sample_submission.csv')"
      ],
      "execution_count": null,
      "outputs": []
    },
    {
      "cell_type": "code",
      "metadata": {
        "colab": {
          "base_uri": "https://localhost:8080/",
          "height": 488
        },
        "id": "-NxWZ2hgpFE4",
        "outputId": "12524486-41f3-47f2-a210-1cf120402dfd"
      },
      "source": [
        "train"
      ],
      "execution_count": null,
      "outputs": [
        {
          "output_type": "execute_result",
          "data": {
            "text/html": [
              "<div>\n",
              "<style scoped>\n",
              "    .dataframe tbody tr th:only-of-type {\n",
              "        vertical-align: middle;\n",
              "    }\n",
              "\n",
              "    .dataframe tbody tr th {\n",
              "        vertical-align: top;\n",
              "    }\n",
              "\n",
              "    .dataframe thead th {\n",
              "        text-align: right;\n",
              "    }\n",
              "</style>\n",
              "<table border=\"1\" class=\"dataframe\">\n",
              "  <thead>\n",
              "    <tr style=\"text-align: right;\">\n",
              "      <th></th>\n",
              "      <th>index</th>\n",
              "      <th>누적전력량</th>\n",
              "      <th>유효전력평균</th>\n",
              "      <th>무효전력평균</th>\n",
              "      <th>주파수</th>\n",
              "      <th>전류평균</th>\n",
              "      <th>상전압평균</th>\n",
              "      <th>선간전압평균</th>\n",
              "      <th>온도</th>\n",
              "      <th>R상유효전력</th>\n",
              "      <th>R상무효전력</th>\n",
              "      <th>R상전류</th>\n",
              "      <th>R상전압</th>\n",
              "      <th>R상선간전압</th>\n",
              "      <th>S상유효전력</th>\n",
              "      <th>S상무효전력</th>\n",
              "      <th>S상전류</th>\n",
              "      <th>S상전압</th>\n",
              "      <th>S상선간전압</th>\n",
              "      <th>T상유효전력</th>\n",
              "      <th>T상무효전력</th>\n",
              "      <th>T상전류</th>\n",
              "      <th>T상전압</th>\n",
              "      <th>T상선간전압</th>\n",
              "      <th>label_역률평균</th>\n",
              "      <th>label_전류고조파평균</th>\n",
              "      <th>label_전압고조파평균</th>\n",
              "    </tr>\n",
              "  </thead>\n",
              "  <tbody>\n",
              "    <tr>\n",
              "      <th>0</th>\n",
              "      <td>0</td>\n",
              "      <td>2248930.50</td>\n",
              "      <td>28963.0</td>\n",
              "      <td>20237.0</td>\n",
              "      <td>59.854076</td>\n",
              "      <td>45.197918</td>\n",
              "      <td>259.916656</td>\n",
              "      <td>449.916656</td>\n",
              "      <td>47.5000</td>\n",
              "      <td>8663.00</td>\n",
              "      <td>6182.00</td>\n",
              "      <td>40.84375</td>\n",
              "      <td>258.250</td>\n",
              "      <td>448.250</td>\n",
              "      <td>9883.00</td>\n",
              "      <td>6751.00</td>\n",
              "      <td>46.03125</td>\n",
              "      <td>260.750</td>\n",
              "      <td>452.750</td>\n",
              "      <td>10417.00</td>\n",
              "      <td>7304.00</td>\n",
              "      <td>48.71875</td>\n",
              "      <td>260.750</td>\n",
              "      <td>448.750</td>\n",
              "      <td>정상</td>\n",
              "      <td>경고</td>\n",
              "      <td>주의</td>\n",
              "    </tr>\n",
              "    <tr>\n",
              "      <th>1</th>\n",
              "      <td>1</td>\n",
              "      <td>0.00</td>\n",
              "      <td>0.0</td>\n",
              "      <td>0.0</td>\n",
              "      <td>0.000000</td>\n",
              "      <td>101.312500</td>\n",
              "      <td>0.000000</td>\n",
              "      <td>0.000000</td>\n",
              "      <td>24.3750</td>\n",
              "      <td>0.00</td>\n",
              "      <td>0.00</td>\n",
              "      <td>101.75000</td>\n",
              "      <td>0.000</td>\n",
              "      <td>0.000</td>\n",
              "      <td>0.00</td>\n",
              "      <td>0.00</td>\n",
              "      <td>101.50000</td>\n",
              "      <td>0.000</td>\n",
              "      <td>0.000</td>\n",
              "      <td>0.00</td>\n",
              "      <td>0.00</td>\n",
              "      <td>100.68750</td>\n",
              "      <td>0.000</td>\n",
              "      <td>0.000</td>\n",
              "      <td>경고</td>\n",
              "      <td>정상</td>\n",
              "      <td>정상</td>\n",
              "    </tr>\n",
              "    <tr>\n",
              "      <th>2</th>\n",
              "      <td>2</td>\n",
              "      <td>5375707.00</td>\n",
              "      <td>35244.0</td>\n",
              "      <td>19826.0</td>\n",
              "      <td>59.975650</td>\n",
              "      <td>107.385414</td>\n",
              "      <td>125.416664</td>\n",
              "      <td>216.750000</td>\n",
              "      <td>18.7500</td>\n",
              "      <td>11988.00</td>\n",
              "      <td>7384.00</td>\n",
              "      <td>111.53125</td>\n",
              "      <td>126.000</td>\n",
              "      <td>217.750</td>\n",
              "      <td>11020.00</td>\n",
              "      <td>6272.00</td>\n",
              "      <td>101.06250</td>\n",
              "      <td>125.250</td>\n",
              "      <td>216.250</td>\n",
              "      <td>12236.00</td>\n",
              "      <td>6170.00</td>\n",
              "      <td>109.56250</td>\n",
              "      <td>125.000</td>\n",
              "      <td>216.250</td>\n",
              "      <td>정상</td>\n",
              "      <td>정상</td>\n",
              "      <td>주의</td>\n",
              "    </tr>\n",
              "    <tr>\n",
              "      <th>3</th>\n",
              "      <td>3</td>\n",
              "      <td>17781200.00</td>\n",
              "      <td>77056.0</td>\n",
              "      <td>39520.0</td>\n",
              "      <td>59.863000</td>\n",
              "      <td>244.854000</td>\n",
              "      <td>118.083000</td>\n",
              "      <td>205.333000</td>\n",
              "      <td>23.1250</td>\n",
              "      <td>25796.00</td>\n",
              "      <td>12244.00</td>\n",
              "      <td>243.18800</td>\n",
              "      <td>117.500</td>\n",
              "      <td>117.500</td>\n",
              "      <td>26268.00</td>\n",
              "      <td>13572.00</td>\n",
              "      <td>249.18800</td>\n",
              "      <td>118.750</td>\n",
              "      <td>118.750</td>\n",
              "      <td>24992.00</td>\n",
              "      <td>13704.00</td>\n",
              "      <td>242.18800</td>\n",
              "      <td>118.000</td>\n",
              "      <td>118.000</td>\n",
              "      <td>정상</td>\n",
              "      <td>정상</td>\n",
              "      <td>경고</td>\n",
              "    </tr>\n",
              "    <tr>\n",
              "      <th>4</th>\n",
              "      <td>4</td>\n",
              "      <td>10143988.00</td>\n",
              "      <td>0.0</td>\n",
              "      <td>0.0</td>\n",
              "      <td>59.798140</td>\n",
              "      <td>0.000000</td>\n",
              "      <td>133.750000</td>\n",
              "      <td>231.500000</td>\n",
              "      <td>26.8750</td>\n",
              "      <td>0.00</td>\n",
              "      <td>0.00</td>\n",
              "      <td>0.00000</td>\n",
              "      <td>133.750</td>\n",
              "      <td>232.750</td>\n",
              "      <td>0.00</td>\n",
              "      <td>0.00</td>\n",
              "      <td>0.00000</td>\n",
              "      <td>134.500</td>\n",
              "      <td>231.500</td>\n",
              "      <td>0.00</td>\n",
              "      <td>0.00</td>\n",
              "      <td>0.00000</td>\n",
              "      <td>133.000</td>\n",
              "      <td>230.250</td>\n",
              "      <td>경고</td>\n",
              "      <td>정상</td>\n",
              "      <td>정상</td>\n",
              "    </tr>\n",
              "    <tr>\n",
              "      <th>...</th>\n",
              "      <td>...</td>\n",
              "      <td>...</td>\n",
              "      <td>...</td>\n",
              "      <td>...</td>\n",
              "      <td>...</td>\n",
              "      <td>...</td>\n",
              "      <td>...</td>\n",
              "      <td>...</td>\n",
              "      <td>...</td>\n",
              "      <td>...</td>\n",
              "      <td>...</td>\n",
              "      <td>...</td>\n",
              "      <td>...</td>\n",
              "      <td>...</td>\n",
              "      <td>...</td>\n",
              "      <td>...</td>\n",
              "      <td>...</td>\n",
              "      <td>...</td>\n",
              "      <td>...</td>\n",
              "      <td>...</td>\n",
              "      <td>...</td>\n",
              "      <td>...</td>\n",
              "      <td>...</td>\n",
              "      <td>...</td>\n",
              "      <td>...</td>\n",
              "      <td>...</td>\n",
              "      <td>...</td>\n",
              "    </tr>\n",
              "    <tr>\n",
              "      <th>2420560</th>\n",
              "      <td>2420561</td>\n",
              "      <td>6229905.00</td>\n",
              "      <td>25925.5</td>\n",
              "      <td>22606.0</td>\n",
              "      <td>57.945000</td>\n",
              "      <td>52.833000</td>\n",
              "      <td>215.327000</td>\n",
              "      <td>372.958000</td>\n",
              "      <td>19.0630</td>\n",
              "      <td>8631.50</td>\n",
              "      <td>6670.50</td>\n",
              "      <td>50.50000</td>\n",
              "      <td>214.227</td>\n",
              "      <td>214.227</td>\n",
              "      <td>9475.50</td>\n",
              "      <td>8068.50</td>\n",
              "      <td>56.87500</td>\n",
              "      <td>216.628</td>\n",
              "      <td>216.628</td>\n",
              "      <td>7818.50</td>\n",
              "      <td>7867.00</td>\n",
              "      <td>51.12500</td>\n",
              "      <td>215.128</td>\n",
              "      <td>215.128</td>\n",
              "      <td>주의</td>\n",
              "      <td>정상</td>\n",
              "      <td>경고</td>\n",
              "    </tr>\n",
              "    <tr>\n",
              "      <th>2420561</th>\n",
              "      <td>2420562</td>\n",
              "      <td>6057307.50</td>\n",
              "      <td>91244.0</td>\n",
              "      <td>47068.0</td>\n",
              "      <td>59.928820</td>\n",
              "      <td>152.156250</td>\n",
              "      <td>224.416672</td>\n",
              "      <td>388.583344</td>\n",
              "      <td>33.7500</td>\n",
              "      <td>30128.00</td>\n",
              "      <td>17328.00</td>\n",
              "      <td>153.53125</td>\n",
              "      <td>225.750</td>\n",
              "      <td>390.750</td>\n",
              "      <td>32064.00</td>\n",
              "      <td>15244.00</td>\n",
              "      <td>157.75000</td>\n",
              "      <td>224.250</td>\n",
              "      <td>386.250</td>\n",
              "      <td>29052.00</td>\n",
              "      <td>14496.00</td>\n",
              "      <td>145.18750</td>\n",
              "      <td>223.250</td>\n",
              "      <td>388.750</td>\n",
              "      <td>정상</td>\n",
              "      <td>정상</td>\n",
              "      <td>주의</td>\n",
              "    </tr>\n",
              "    <tr>\n",
              "      <th>2420562</th>\n",
              "      <td>2420563</td>\n",
              "      <td>7966820.00</td>\n",
              "      <td>16822.0</td>\n",
              "      <td>11924.8</td>\n",
              "      <td>59.914000</td>\n",
              "      <td>31.363100</td>\n",
              "      <td>219.233000</td>\n",
              "      <td>379.862000</td>\n",
              "      <td>17.3214</td>\n",
              "      <td>5157.84</td>\n",
              "      <td>3806.66</td>\n",
              "      <td>29.37930</td>\n",
              "      <td>218.862</td>\n",
              "      <td>218.862</td>\n",
              "      <td>5709.16</td>\n",
              "      <td>3945.14</td>\n",
              "      <td>31.91490</td>\n",
              "      <td>219.276</td>\n",
              "      <td>219.276</td>\n",
              "      <td>5954.98</td>\n",
              "      <td>4172.97</td>\n",
              "      <td>32.79530</td>\n",
              "      <td>219.560</td>\n",
              "      <td>219.560</td>\n",
              "      <td>정상</td>\n",
              "      <td>경고</td>\n",
              "      <td>경고</td>\n",
              "    </tr>\n",
              "    <tr>\n",
              "      <th>2420563</th>\n",
              "      <td>2420564</td>\n",
              "      <td>0.00</td>\n",
              "      <td>0.0</td>\n",
              "      <td>0.0</td>\n",
              "      <td>0.000000</td>\n",
              "      <td>44.572918</td>\n",
              "      <td>0.000000</td>\n",
              "      <td>0.000000</td>\n",
              "      <td>34.3750</td>\n",
              "      <td>0.00</td>\n",
              "      <td>0.00</td>\n",
              "      <td>47.93750</td>\n",
              "      <td>0.000</td>\n",
              "      <td>0.000</td>\n",
              "      <td>0.00</td>\n",
              "      <td>0.00</td>\n",
              "      <td>43.81250</td>\n",
              "      <td>0.000</td>\n",
              "      <td>0.000</td>\n",
              "      <td>0.00</td>\n",
              "      <td>0.00</td>\n",
              "      <td>41.96875</td>\n",
              "      <td>0.000</td>\n",
              "      <td>0.000</td>\n",
              "      <td>경고</td>\n",
              "      <td>경고</td>\n",
              "      <td>정상</td>\n",
              "    </tr>\n",
              "    <tr>\n",
              "      <th>2420564</th>\n",
              "      <td>2420565</td>\n",
              "      <td>1296005.63</td>\n",
              "      <td>0.0</td>\n",
              "      <td>0.0</td>\n",
              "      <td>59.807450</td>\n",
              "      <td>0.000000</td>\n",
              "      <td>229.416672</td>\n",
              "      <td>396.916656</td>\n",
              "      <td>24.3750</td>\n",
              "      <td>0.00</td>\n",
              "      <td>0.00</td>\n",
              "      <td>0.00000</td>\n",
              "      <td>230.750</td>\n",
              "      <td>396.750</td>\n",
              "      <td>0.00</td>\n",
              "      <td>0.00</td>\n",
              "      <td>0.00000</td>\n",
              "      <td>228.000</td>\n",
              "      <td>394.500</td>\n",
              "      <td>0.00</td>\n",
              "      <td>0.00</td>\n",
              "      <td>0.00000</td>\n",
              "      <td>229.500</td>\n",
              "      <td>399.500</td>\n",
              "      <td>경고</td>\n",
              "      <td>정상</td>\n",
              "      <td>경고</td>\n",
              "    </tr>\n",
              "  </tbody>\n",
              "</table>\n",
              "<p>2420565 rows × 27 columns</p>\n",
              "</div>"
            ],
            "text/plain": [
              "           index        누적전력량   유효전력평균  ...  label_역률평균  label_전류고조파평균  label_전압고조파평균\n",
              "0              0   2248930.50  28963.0  ...          정상             경고             주의\n",
              "1              1         0.00      0.0  ...          경고             정상             정상\n",
              "2              2   5375707.00  35244.0  ...          정상             정상             주의\n",
              "3              3  17781200.00  77056.0  ...          정상             정상             경고\n",
              "4              4  10143988.00      0.0  ...          경고             정상             정상\n",
              "...          ...          ...      ...  ...         ...            ...            ...\n",
              "2420560  2420561   6229905.00  25925.5  ...          주의             정상             경고\n",
              "2420561  2420562   6057307.50  91244.0  ...          정상             정상             주의\n",
              "2420562  2420563   7966820.00  16822.0  ...          정상             경고             경고\n",
              "2420563  2420564         0.00      0.0  ...          경고             경고             정상\n",
              "2420564  2420565   1296005.63      0.0  ...          경고             정상             경고\n",
              "\n",
              "[2420565 rows x 27 columns]"
            ]
          },
          "metadata": {
            "tags": []
          },
          "execution_count": 3
        }
      ]
    },
    {
      "cell_type": "code",
      "metadata": {
        "colab": {
          "base_uri": "https://localhost:8080/",
          "height": 455
        },
        "id": "x4i2ZDfFpQL_",
        "outputId": "dcc82613-04ef-465e-dcc1-66420d8a5f6d"
      },
      "source": [
        "test"
      ],
      "execution_count": null,
      "outputs": [
        {
          "output_type": "execute_result",
          "data": {
            "text/html": [
              "<div>\n",
              "<style scoped>\n",
              "    .dataframe tbody tr th:only-of-type {\n",
              "        vertical-align: middle;\n",
              "    }\n",
              "\n",
              "    .dataframe tbody tr th {\n",
              "        vertical-align: top;\n",
              "    }\n",
              "\n",
              "    .dataframe thead th {\n",
              "        text-align: right;\n",
              "    }\n",
              "</style>\n",
              "<table border=\"1\" class=\"dataframe\">\n",
              "  <thead>\n",
              "    <tr style=\"text-align: right;\">\n",
              "      <th></th>\n",
              "      <th>ID</th>\n",
              "      <th>누적전력량</th>\n",
              "      <th>유효전력평균</th>\n",
              "      <th>무효전력평균</th>\n",
              "      <th>주파수</th>\n",
              "      <th>전류평균</th>\n",
              "      <th>상전압평균</th>\n",
              "      <th>선간전압평균</th>\n",
              "      <th>온도</th>\n",
              "      <th>R상유효전력</th>\n",
              "      <th>R상무효전력</th>\n",
              "      <th>R상전류</th>\n",
              "      <th>R상전압</th>\n",
              "      <th>R상선간전압</th>\n",
              "      <th>S상유효전력</th>\n",
              "      <th>S상무효전력</th>\n",
              "      <th>S상전류</th>\n",
              "      <th>S상전압</th>\n",
              "      <th>S상선간전압</th>\n",
              "      <th>T상유효전력</th>\n",
              "      <th>T상무효전력</th>\n",
              "      <th>T상전류</th>\n",
              "      <th>T상전압</th>\n",
              "      <th>T상선간전압</th>\n",
              "    </tr>\n",
              "  </thead>\n",
              "  <tbody>\n",
              "    <tr>\n",
              "      <th>0</th>\n",
              "      <td>0</td>\n",
              "      <td>5.471566e+06</td>\n",
              "      <td>92992.0</td>\n",
              "      <td>58520.00</td>\n",
              "      <td>59.826096</td>\n",
              "      <td>284.125000</td>\n",
              "      <td>129.416672</td>\n",
              "      <td>224.000000</td>\n",
              "      <td>26.875</td>\n",
              "      <td>30856.0</td>\n",
              "      <td>20032.00</td>\n",
              "      <td>285.3125</td>\n",
              "      <td>129.500</td>\n",
              "      <td>224.250</td>\n",
              "      <td>31472.0</td>\n",
              "      <td>19440.0</td>\n",
              "      <td>286.7500</td>\n",
              "      <td>129.500</td>\n",
              "      <td>224.000</td>\n",
              "      <td>30664.0</td>\n",
              "      <td>19048.0</td>\n",
              "      <td>280.3125</td>\n",
              "      <td>129.250</td>\n",
              "      <td>223.750</td>\n",
              "    </tr>\n",
              "    <tr>\n",
              "      <th>1</th>\n",
              "      <td>1</td>\n",
              "      <td>1.814760e-01</td>\n",
              "      <td>0.0</td>\n",
              "      <td>0.00</td>\n",
              "      <td>59.816770</td>\n",
              "      <td>0.000000</td>\n",
              "      <td>229.333328</td>\n",
              "      <td>396.916656</td>\n",
              "      <td>23.125</td>\n",
              "      <td>0.0</td>\n",
              "      <td>0.00</td>\n",
              "      <td>0.0000</td>\n",
              "      <td>230.500</td>\n",
              "      <td>399.250</td>\n",
              "      <td>0.0</td>\n",
              "      <td>0.0</td>\n",
              "      <td>0.0000</td>\n",
              "      <td>229.500</td>\n",
              "      <td>395.000</td>\n",
              "      <td>0.0</td>\n",
              "      <td>0.0</td>\n",
              "      <td>0.0000</td>\n",
              "      <td>228.000</td>\n",
              "      <td>396.500</td>\n",
              "    </tr>\n",
              "    <tr>\n",
              "      <th>2</th>\n",
              "      <td>2</td>\n",
              "      <td>1.882077e+07</td>\n",
              "      <td>41165.0</td>\n",
              "      <td>11259.00</td>\n",
              "      <td>59.929000</td>\n",
              "      <td>62.302000</td>\n",
              "      <td>228.333000</td>\n",
              "      <td>395.000000</td>\n",
              "      <td>15.000</td>\n",
              "      <td>13584.0</td>\n",
              "      <td>3798.00</td>\n",
              "      <td>61.6560</td>\n",
              "      <td>228.750</td>\n",
              "      <td>228.750</td>\n",
              "      <td>14114.0</td>\n",
              "      <td>3904.0</td>\n",
              "      <td>63.9690</td>\n",
              "      <td>228.750</td>\n",
              "      <td>228.750</td>\n",
              "      <td>13467.0</td>\n",
              "      <td>3557.0</td>\n",
              "      <td>61.2810</td>\n",
              "      <td>227.500</td>\n",
              "      <td>227.500</td>\n",
              "    </tr>\n",
              "    <tr>\n",
              "      <th>3</th>\n",
              "      <td>3</td>\n",
              "      <td>1.425333e+07</td>\n",
              "      <td>72496.0</td>\n",
              "      <td>46050.00</td>\n",
              "      <td>59.826096</td>\n",
              "      <td>131.833328</td>\n",
              "      <td>216.250000</td>\n",
              "      <td>374.166656</td>\n",
              "      <td>28.125</td>\n",
              "      <td>25164.0</td>\n",
              "      <td>14328.00</td>\n",
              "      <td>133.4375</td>\n",
              "      <td>216.000</td>\n",
              "      <td>375.500</td>\n",
              "      <td>24656.0</td>\n",
              "      <td>16654.0</td>\n",
              "      <td>136.1875</td>\n",
              "      <td>217.250</td>\n",
              "      <td>374.500</td>\n",
              "      <td>22676.0</td>\n",
              "      <td>15068.0</td>\n",
              "      <td>125.8750</td>\n",
              "      <td>215.500</td>\n",
              "      <td>372.500</td>\n",
              "    </tr>\n",
              "    <tr>\n",
              "      <th>4</th>\n",
              "      <td>4</td>\n",
              "      <td>3.713425e+06</td>\n",
              "      <td>13205.5</td>\n",
              "      <td>21464.75</td>\n",
              "      <td>58.975000</td>\n",
              "      <td>39.125000</td>\n",
              "      <td>215.995000</td>\n",
              "      <td>374.113000</td>\n",
              "      <td>10.000</td>\n",
              "      <td>4327.5</td>\n",
              "      <td>6071.25</td>\n",
              "      <td>34.7500</td>\n",
              "      <td>214.618</td>\n",
              "      <td>214.618</td>\n",
              "      <td>5432.5</td>\n",
              "      <td>7740.5</td>\n",
              "      <td>43.5000</td>\n",
              "      <td>217.289</td>\n",
              "      <td>217.289</td>\n",
              "      <td>3445.5</td>\n",
              "      <td>7653.0</td>\n",
              "      <td>39.1250</td>\n",
              "      <td>216.078</td>\n",
              "      <td>216.078</td>\n",
              "    </tr>\n",
              "    <tr>\n",
              "      <th>...</th>\n",
              "      <td>...</td>\n",
              "      <td>...</td>\n",
              "      <td>...</td>\n",
              "      <td>...</td>\n",
              "      <td>...</td>\n",
              "      <td>...</td>\n",
              "      <td>...</td>\n",
              "      <td>...</td>\n",
              "      <td>...</td>\n",
              "      <td>...</td>\n",
              "      <td>...</td>\n",
              "      <td>...</td>\n",
              "      <td>...</td>\n",
              "      <td>...</td>\n",
              "      <td>...</td>\n",
              "      <td>...</td>\n",
              "      <td>...</td>\n",
              "      <td>...</td>\n",
              "      <td>...</td>\n",
              "      <td>...</td>\n",
              "      <td>...</td>\n",
              "      <td>...</td>\n",
              "      <td>...</td>\n",
              "      <td>...</td>\n",
              "    </tr>\n",
              "    <tr>\n",
              "      <th>313262</th>\n",
              "      <td>313263</td>\n",
              "      <td>2.969156e+06</td>\n",
              "      <td>0.0</td>\n",
              "      <td>0.00</td>\n",
              "      <td>59.854070</td>\n",
              "      <td>0.000000</td>\n",
              "      <td>264.083344</td>\n",
              "      <td>457.250000</td>\n",
              "      <td>29.375</td>\n",
              "      <td>0.0</td>\n",
              "      <td>0.00</td>\n",
              "      <td>0.0000</td>\n",
              "      <td>263.500</td>\n",
              "      <td>458.250</td>\n",
              "      <td>0.0</td>\n",
              "      <td>0.0</td>\n",
              "      <td>0.0000</td>\n",
              "      <td>265.250</td>\n",
              "      <td>458.250</td>\n",
              "      <td>0.0</td>\n",
              "      <td>0.0</td>\n",
              "      <td>0.0000</td>\n",
              "      <td>263.500</td>\n",
              "      <td>455.250</td>\n",
              "    </tr>\n",
              "    <tr>\n",
              "      <th>313263</th>\n",
              "      <td>313264</td>\n",
              "      <td>8.162921e+05</td>\n",
              "      <td>0.0</td>\n",
              "      <td>0.00</td>\n",
              "      <td>59.854103</td>\n",
              "      <td>0.000000</td>\n",
              "      <td>226.083328</td>\n",
              "      <td>391.166656</td>\n",
              "      <td>28.125</td>\n",
              "      <td>0.0</td>\n",
              "      <td>0.00</td>\n",
              "      <td>0.0000</td>\n",
              "      <td>225.500</td>\n",
              "      <td>390.500</td>\n",
              "      <td>0.0</td>\n",
              "      <td>0.0</td>\n",
              "      <td>0.0000</td>\n",
              "      <td>226.250</td>\n",
              "      <td>392.250</td>\n",
              "      <td>0.0</td>\n",
              "      <td>0.0</td>\n",
              "      <td>0.0000</td>\n",
              "      <td>226.500</td>\n",
              "      <td>390.750</td>\n",
              "    </tr>\n",
              "    <tr>\n",
              "      <th>313264</th>\n",
              "      <td>313265</td>\n",
              "      <td>9.445837e+06</td>\n",
              "      <td>0.0</td>\n",
              "      <td>0.00</td>\n",
              "      <td>59.863403</td>\n",
              "      <td>0.000000</td>\n",
              "      <td>130.500000</td>\n",
              "      <td>225.916672</td>\n",
              "      <td>26.875</td>\n",
              "      <td>0.0</td>\n",
              "      <td>0.00</td>\n",
              "      <td>0.0000</td>\n",
              "      <td>130.750</td>\n",
              "      <td>227.500</td>\n",
              "      <td>0.0</td>\n",
              "      <td>0.0</td>\n",
              "      <td>0.0000</td>\n",
              "      <td>131.250</td>\n",
              "      <td>225.750</td>\n",
              "      <td>0.0</td>\n",
              "      <td>0.0</td>\n",
              "      <td>0.0000</td>\n",
              "      <td>129.500</td>\n",
              "      <td>224.500</td>\n",
              "    </tr>\n",
              "    <tr>\n",
              "      <th>313265</th>\n",
              "      <td>313266</td>\n",
              "      <td>1.803930e+07</td>\n",
              "      <td>0.0</td>\n",
              "      <td>0.00</td>\n",
              "      <td>59.948000</td>\n",
              "      <td>0.000000</td>\n",
              "      <td>265.667000</td>\n",
              "      <td>460.000000</td>\n",
              "      <td>29.375</td>\n",
              "      <td>0.0</td>\n",
              "      <td>0.00</td>\n",
              "      <td>0.0000</td>\n",
              "      <td>265.500</td>\n",
              "      <td>265.500</td>\n",
              "      <td>0.0</td>\n",
              "      <td>0.0</td>\n",
              "      <td>0.0000</td>\n",
              "      <td>267.000</td>\n",
              "      <td>267.000</td>\n",
              "      <td>0.0</td>\n",
              "      <td>0.0</td>\n",
              "      <td>0.0000</td>\n",
              "      <td>264.500</td>\n",
              "      <td>264.500</td>\n",
              "    </tr>\n",
              "    <tr>\n",
              "      <th>313266</th>\n",
              "      <td>313267</td>\n",
              "      <td>3.378865e+06</td>\n",
              "      <td>0.0</td>\n",
              "      <td>0.00</td>\n",
              "      <td>59.900784</td>\n",
              "      <td>0.000000</td>\n",
              "      <td>261.000000</td>\n",
              "      <td>451.833344</td>\n",
              "      <td>27.500</td>\n",
              "      <td>0.0</td>\n",
              "      <td>0.00</td>\n",
              "      <td>0.0000</td>\n",
              "      <td>260.000</td>\n",
              "      <td>452.750</td>\n",
              "      <td>0.0</td>\n",
              "      <td>0.0</td>\n",
              "      <td>0.0000</td>\n",
              "      <td>262.500</td>\n",
              "      <td>453.500</td>\n",
              "      <td>0.0</td>\n",
              "      <td>0.0</td>\n",
              "      <td>0.0000</td>\n",
              "      <td>260.500</td>\n",
              "      <td>449.250</td>\n",
              "    </tr>\n",
              "  </tbody>\n",
              "</table>\n",
              "<p>313267 rows × 24 columns</p>\n",
              "</div>"
            ],
            "text/plain": [
              "            ID         누적전력량   유효전력평균  ...      T상전류     T상전압   T상선간전압\n",
              "0            0  5.471566e+06  92992.0  ...  280.3125  129.250  223.750\n",
              "1            1  1.814760e-01      0.0  ...    0.0000  228.000  396.500\n",
              "2            2  1.882077e+07  41165.0  ...   61.2810  227.500  227.500\n",
              "3            3  1.425333e+07  72496.0  ...  125.8750  215.500  372.500\n",
              "4            4  3.713425e+06  13205.5  ...   39.1250  216.078  216.078\n",
              "...        ...           ...      ...  ...       ...      ...      ...\n",
              "313262  313263  2.969156e+06      0.0  ...    0.0000  263.500  455.250\n",
              "313263  313264  8.162921e+05      0.0  ...    0.0000  226.500  390.750\n",
              "313264  313265  9.445837e+06      0.0  ...    0.0000  129.500  224.500\n",
              "313265  313266  1.803930e+07      0.0  ...    0.0000  264.500  264.500\n",
              "313266  313267  3.378865e+06      0.0  ...    0.0000  260.500  449.250\n",
              "\n",
              "[313267 rows x 24 columns]"
            ]
          },
          "metadata": {
            "tags": []
          },
          "execution_count": 4
        }
      ]
    },
    {
      "cell_type": "code",
      "metadata": {
        "colab": {
          "base_uri": "https://localhost:8080/",
          "height": 418
        },
        "id": "T4I8rLo-pQjY",
        "outputId": "30af6a3a-b36b-4c33-e893-18231625a2ae"
      },
      "source": [
        "submission"
      ],
      "execution_count": null,
      "outputs": [
        {
          "output_type": "execute_result",
          "data": {
            "text/html": [
              "<div>\n",
              "<style scoped>\n",
              "    .dataframe tbody tr th:only-of-type {\n",
              "        vertical-align: middle;\n",
              "    }\n",
              "\n",
              "    .dataframe tbody tr th {\n",
              "        vertical-align: top;\n",
              "    }\n",
              "\n",
              "    .dataframe thead th {\n",
              "        text-align: right;\n",
              "    }\n",
              "</style>\n",
              "<table border=\"1\" class=\"dataframe\">\n",
              "  <thead>\n",
              "    <tr style=\"text-align: right;\">\n",
              "      <th></th>\n",
              "      <th>ID</th>\n",
              "      <th>label_역률평균</th>\n",
              "      <th>label_전류고조파평균</th>\n",
              "      <th>label_전압고조파평균</th>\n",
              "    </tr>\n",
              "  </thead>\n",
              "  <tbody>\n",
              "    <tr>\n",
              "      <th>0</th>\n",
              "      <td>0</td>\n",
              "      <td>정상</td>\n",
              "      <td>정상</td>\n",
              "      <td>정상</td>\n",
              "    </tr>\n",
              "    <tr>\n",
              "      <th>1</th>\n",
              "      <td>1</td>\n",
              "      <td>정상</td>\n",
              "      <td>정상</td>\n",
              "      <td>정상</td>\n",
              "    </tr>\n",
              "    <tr>\n",
              "      <th>2</th>\n",
              "      <td>2</td>\n",
              "      <td>정상</td>\n",
              "      <td>정상</td>\n",
              "      <td>정상</td>\n",
              "    </tr>\n",
              "    <tr>\n",
              "      <th>3</th>\n",
              "      <td>3</td>\n",
              "      <td>정상</td>\n",
              "      <td>정상</td>\n",
              "      <td>정상</td>\n",
              "    </tr>\n",
              "    <tr>\n",
              "      <th>4</th>\n",
              "      <td>4</td>\n",
              "      <td>정상</td>\n",
              "      <td>정상</td>\n",
              "      <td>정상</td>\n",
              "    </tr>\n",
              "    <tr>\n",
              "      <th>...</th>\n",
              "      <td>...</td>\n",
              "      <td>...</td>\n",
              "      <td>...</td>\n",
              "      <td>...</td>\n",
              "    </tr>\n",
              "    <tr>\n",
              "      <th>313262</th>\n",
              "      <td>313263</td>\n",
              "      <td>정상</td>\n",
              "      <td>정상</td>\n",
              "      <td>정상</td>\n",
              "    </tr>\n",
              "    <tr>\n",
              "      <th>313263</th>\n",
              "      <td>313264</td>\n",
              "      <td>정상</td>\n",
              "      <td>정상</td>\n",
              "      <td>정상</td>\n",
              "    </tr>\n",
              "    <tr>\n",
              "      <th>313264</th>\n",
              "      <td>313265</td>\n",
              "      <td>정상</td>\n",
              "      <td>정상</td>\n",
              "      <td>정상</td>\n",
              "    </tr>\n",
              "    <tr>\n",
              "      <th>313265</th>\n",
              "      <td>313266</td>\n",
              "      <td>정상</td>\n",
              "      <td>정상</td>\n",
              "      <td>정상</td>\n",
              "    </tr>\n",
              "    <tr>\n",
              "      <th>313266</th>\n",
              "      <td>313267</td>\n",
              "      <td>정상</td>\n",
              "      <td>정상</td>\n",
              "      <td>정상</td>\n",
              "    </tr>\n",
              "  </tbody>\n",
              "</table>\n",
              "<p>313267 rows × 4 columns</p>\n",
              "</div>"
            ],
            "text/plain": [
              "            ID label_역률평균 label_전류고조파평균 label_전압고조파평균\n",
              "0            0         정상            정상            정상\n",
              "1            1         정상            정상            정상\n",
              "2            2         정상            정상            정상\n",
              "3            3         정상            정상            정상\n",
              "4            4         정상            정상            정상\n",
              "...        ...        ...           ...           ...\n",
              "313262  313263         정상            정상            정상\n",
              "313263  313264         정상            정상            정상\n",
              "313264  313265         정상            정상            정상\n",
              "313265  313266         정상            정상            정상\n",
              "313266  313267         정상            정상            정상\n",
              "\n",
              "[313267 rows x 4 columns]"
            ]
          },
          "metadata": {
            "tags": []
          },
          "execution_count": 5
        }
      ]
    },
    {
      "cell_type": "code",
      "metadata": {
        "colab": {
          "base_uri": "https://localhost:8080/"
        },
        "id": "FHEMkv4V7tWW",
        "outputId": "21fcf1e4-2dfe-4025-a32c-4e6b9540956d"
      },
      "source": [
        "train.shape, test.shape, submission.shape"
      ],
      "execution_count": null,
      "outputs": [
        {
          "output_type": "execute_result",
          "data": {
            "text/plain": [
              "((2420565, 27), (313267, 24), (313267, 4))"
            ]
          },
          "metadata": {
            "tags": []
          },
          "execution_count": 6
        }
      ]
    },
    {
      "cell_type": "code",
      "metadata": {
        "colab": {
          "base_uri": "https://localhost:8080/"
        },
        "id": "inou8g0mp0IG",
        "outputId": "f38e88d1-edc2-4a05-b6fe-bc522edda6fd"
      },
      "source": [
        "train.columns"
      ],
      "execution_count": null,
      "outputs": [
        {
          "output_type": "execute_result",
          "data": {
            "text/plain": [
              "Index(['index', '누적전력량', '유효전력평균', '무효전력평균', '주파수', '전류평균', '상전압평균', '선간전압평균',\n",
              "       '온도', 'R상유효전력', 'R상무효전력', 'R상전류', 'R상전압', 'R상선간전압', 'S상유효전력', 'S상무효전력',\n",
              "       'S상전류', 'S상전압', 'S상선간전압', 'T상유효전력', 'T상무효전력', 'T상전류', 'T상전압', 'T상선간전압',\n",
              "       'label_역률평균', 'label_전류고조파평균', 'label_전압고조파평균'],\n",
              "      dtype='object')"
            ]
          },
          "metadata": {
            "tags": []
          },
          "execution_count": 7
        }
      ]
    },
    {
      "cell_type": "markdown",
      "metadata": {
        "id": "w0XePi7jpsmi"
      },
      "source": [
        "# 데이터 전처리"
      ]
    },
    {
      "cell_type": "markdown",
      "metadata": {
        "id": "hs8f6csu05sx"
      },
      "source": [
        "'온도' 컬럼 소수점 변환\n",
        "- 사람의 체온을 잴때도 소수점 1자리까지만 재기 때문에 소수점 1자리로 사용\n",
        "- ex) 35.6도"
      ]
    },
    {
      "cell_type": "code",
      "metadata": {
        "id": "cfkbLJ_D00-a"
      },
      "source": [
        "train['온도'] = round(train['온도'],1) # 소수점 1자리\n",
        "test['온도'] = round(test['온도'],1) # 소수점 1자리"
      ],
      "execution_count": null,
      "outputs": []
    },
    {
      "cell_type": "code",
      "metadata": {
        "colab": {
          "base_uri": "https://localhost:8080/"
        },
        "id": "rwfQjSNI501u",
        "outputId": "503ac27f-e003-4112-f42d-712ebcd5c593"
      },
      "source": [
        "train.columns"
      ],
      "execution_count": null,
      "outputs": [
        {
          "output_type": "execute_result",
          "data": {
            "text/plain": [
              "Index(['index', '누적전력량', '유효전력평균', '무효전력평균', '주파수', '전류평균', '상전압평균', '선간전압평균',\n",
              "       '온도', 'R상유효전력', 'R상무효전력', 'R상전류', 'R상전압', 'R상선간전압', 'S상유효전력', 'S상무효전력',\n",
              "       'S상전류', 'S상전압', 'S상선간전압', 'T상유효전력', 'T상무효전력', 'T상전류', 'T상전압', 'T상선간전압',\n",
              "       'label_역률평균', 'label_전류고조파평균', 'label_전압고조파평균'],\n",
              "      dtype='object')"
            ]
          },
          "metadata": {
            "tags": []
          },
          "execution_count": 9
        }
      ]
    },
    {
      "cell_type": "code",
      "metadata": {
        "id": "5gsC83iWTFeN"
      },
      "source": [
        "df_columns = {'누적전력량', '유효전력평균', '무효전력평균', '주파수', '전류평균', '상전압평균', '선간전압평균',\n",
        "       '온도', 'R상유효전력', 'R상무효전력', 'R상전류', 'R상전압', 'R상선간전압', 'S상유효전력', 'S상무효전력',\n",
        "       'S상전류', 'S상전압', 'S상선간전압', 'T상유효전력', 'T상무효전력', 'T상전류', 'T상전압', 'T상선간전압'}\n",
        "       \n",
        "train['온도'] = train['온도'].fillna(train['온도'].mean())\n",
        "test['온도'] = test['온도'].fillna(test['온도'].mean())\n",
        "\n",
        "for col in df_columns:\n",
        "  train[col] = train[col].fillna(train.groupby(['온도'])[col].transform('mean'))\n",
        "  test[col] = test[col].fillna(test.groupby(['온도'])[col].transform('mean'))"
      ],
      "execution_count": null,
      "outputs": []
    },
    {
      "cell_type": "code",
      "metadata": {
        "id": "dVqPJOS6UHIt"
      },
      "source": [
        "for col in df_columns:\n",
        "  train[col] = train[col].replace(np.nan,0)\n",
        "  test[col] = test[col].replace(np.nan,0)"
      ],
      "execution_count": null,
      "outputs": []
    },
    {
      "cell_type": "code",
      "metadata": {
        "colab": {
          "base_uri": "https://localhost:8080/"
        },
        "id": "PKDl8vpATHf5",
        "outputId": "bdd7affa-4937-4637-c110-74c685e87a3d"
      },
      "source": [
        "train.isnull().sum()"
      ],
      "execution_count": null,
      "outputs": [
        {
          "output_type": "execute_result",
          "data": {
            "text/plain": [
              "index            0\n",
              "누적전력량            0\n",
              "유효전력평균           0\n",
              "무효전력평균           0\n",
              "주파수              0\n",
              "전류평균             0\n",
              "상전압평균            0\n",
              "선간전압평균           0\n",
              "온도               0\n",
              "R상유효전력           0\n",
              "R상무효전력           0\n",
              "R상전류             0\n",
              "R상전압             0\n",
              "R상선간전압           0\n",
              "S상유효전력           0\n",
              "S상무효전력           0\n",
              "S상전류             0\n",
              "S상전압             0\n",
              "S상선간전압           0\n",
              "T상유효전력           0\n",
              "T상무효전력           0\n",
              "T상전류             0\n",
              "T상전압             0\n",
              "T상선간전압           0\n",
              "label_역률평균       0\n",
              "label_전류고조파평균    0\n",
              "label_전압고조파평균    0\n",
              "dtype: int64"
            ]
          },
          "metadata": {
            "tags": []
          },
          "execution_count": 12
        }
      ]
    },
    {
      "cell_type": "code",
      "metadata": {
        "colab": {
          "base_uri": "https://localhost:8080/"
        },
        "id": "tD1XhZSkTJOe",
        "outputId": "a68cc168-8a3b-4a52-baa0-25b846ac9acc"
      },
      "source": [
        "test.isnull().sum()"
      ],
      "execution_count": null,
      "outputs": [
        {
          "output_type": "execute_result",
          "data": {
            "text/plain": [
              "ID        0\n",
              "누적전력량     0\n",
              "유효전력평균    0\n",
              "무효전력평균    0\n",
              "주파수       0\n",
              "전류평균      0\n",
              "상전압평균     0\n",
              "선간전압평균    0\n",
              "온도        0\n",
              "R상유효전력    0\n",
              "R상무효전력    0\n",
              "R상전류      0\n",
              "R상전압      0\n",
              "R상선간전압    0\n",
              "S상유효전력    0\n",
              "S상무효전력    0\n",
              "S상전류      0\n",
              "S상전압      0\n",
              "S상선간전압    0\n",
              "T상유효전력    0\n",
              "T상무효전력    0\n",
              "T상전류      0\n",
              "T상전압      0\n",
              "T상선간전압    0\n",
              "dtype: int64"
            ]
          },
          "metadata": {
            "tags": []
          },
          "execution_count": 13
        }
      ]
    },
    {
      "cell_type": "markdown",
      "metadata": {
        "id": "w6pW81WoN9SD"
      },
      "source": [
        "기술통계\n",
        "- 온도 별 기술통계\n",
        "- 주파수 별 기술통계"
      ]
    },
    {
      "cell_type": "code",
      "metadata": {
        "id": "mJgN01t2Mcj9"
      },
      "source": [
        "from scipy.stats import skew\n",
        "from scipy.stats import kurtosis"
      ],
      "execution_count": null,
      "outputs": []
    },
    {
      "cell_type": "code",
      "metadata": {
        "id": "t6Le0DWFvxVp"
      },
      "source": [
        "def range_func(x):\n",
        "    max_val = np.max(x)\n",
        "    min_val = np.min(x)\n",
        "    range_val = max_val - min_val\n",
        "    return range_val\n",
        "\n",
        "def iqr_func(x):\n",
        "    low = 5\n",
        "    high = 95\n",
        "    q3, q1 = np.percentile(x, [low, high])\n",
        "    iqr = q3 - q1\n",
        "    return iqr\n",
        "\n",
        "# mad(median_absolute_devation)\n",
        "def premad(x):\n",
        "    return np.median(np.absolute(x-np.median(x,axis=0)),axis=0)\n",
        "\n",
        "# skewness, kurtosis\n",
        "def preskew(x):\n",
        "    return skew(x)\n",
        "\n",
        "def prekurt(x):\n",
        "    return kurtosis(x,fisher=True)\n"
      ],
      "execution_count": null,
      "outputs": []
    },
    {
      "cell_type": "code",
      "metadata": {
        "id": "zFhJwRCip9qK"
      },
      "source": [
        "# 온도 별 기술통계\n",
        "#train_preprocess = train[train_not_feature].groupby('온도').agg(['mean','std',range_func,premad,preskew,prekurt])\n",
        "#test_preprocess = test[test_not_feature].groupby('온도').agg(['mean','std',range_func,premad,preskew,prekurt])\n",
        "#train_preprocess.columns=[i[0]+'_'+i[1] for i in train_preprocess.columns]\n",
        "#test_preprocess.columns=[i[0]+'_'+i[1] for i in test_preprocess.columns]\n",
        "\n",
        "train = pd.concat([train,train_preprocess],axis=1)\n",
        "test = pd.concat([test,test_preprocess],axis=1)"
      ],
      "execution_count": null,
      "outputs": []
    },
    {
      "cell_type": "markdown",
      "metadata": {
        "id": "GAWjGzuKttbX"
      },
      "source": [
        "전력\n",
        "- 전력(P) = 전압(V)*전류(I)"
      ]
    },
    {
      "cell_type": "markdown",
      "metadata": {
        "id": "YFhfQjUZKnJF"
      },
      "source": [
        "{'누적전력량', '유효전력평균', '무효전력평균', '주파수', '전류평균', '상전압평균', '선간전압평균',\n",
        "       '온도', 'R상유효전력', 'R상무효전력', 'R상전류', 'R상전압', 'R상선간전압', 'S상유효전력', 'S상무효전력',\n",
        "       'S상전류', 'S상전압', 'S상선간전압', 'T상유효전력', 'T상무효전력', 'T상전류', 'T상전압', 'T상선간전압'}"
      ]
    },
    {
      "cell_type": "code",
      "metadata": {
        "id": "urkEE8-xKCdF"
      },
      "source": [
        "train['R상전력'] = train['R상전압'] * train['R상전류']\n",
        "test['R상전력'] = test['R상전압'] * test['R상전류']\n",
        "\n",
        "train['S상전력'] = train['S상전압'] * train['S상전류']\n",
        "test['S상전력'] = test['S상전압'] * test['S상전류']\n",
        "\n",
        "train['T상전력'] = train['T상전압'] * train['T상전류']\n",
        "test['T상전력'] = test['T상전압'] * test['T상전류']"
      ],
      "execution_count": null,
      "outputs": []
    },
    {
      "cell_type": "markdown",
      "metadata": {
        "id": "xo_uDhiysR7a"
      },
      "source": [
        "피상전력\n",
        "- 피상전력 = 유효전력^2 + 무효전력^2\n",
        "- 유효전력 = 피상전력 * cos"
      ]
    },
    {
      "cell_type": "code",
      "metadata": {
        "id": "5JonTDyjKLU0"
      },
      "source": [
        "#train['피상전력'] = np.sqrt(train['유효전력평균'].astype(float)) + np.sqrt(train['무효전력평균'].astype(float))\n",
        "#test['피상전력'] = np.sqrt(test['유효전력평균'].astype(float)) + np.sqrt(test['무효전력평균'].astype(float))"
      ],
      "execution_count": null,
      "outputs": []
    },
    {
      "cell_type": "markdown",
      "metadata": {
        "id": "ioIrcNA2spIQ"
      },
      "source": [
        "역률 (power factor)\n",
        "- 역률 cos = 유효전력/피상전력"
      ]
    },
    {
      "cell_type": "code",
      "metadata": {
        "id": "dE1BzB5VLki2"
      },
      "source": [
        "#train['R상역률cos'] = train['R상유효전력']/train['피상전력']\n",
        "#test['R상역률cos'] = test['R상유효전력']/test['피상전력']\n",
        "\n",
        "#train['S상역률cos'] = train['S상유효전력']/train['피상전력']\n",
        "#test['S상역률cos'] = test['S상유효전력']/test['피상전력']\n",
        "\n",
        "#train['T상역률cos'] = train['T상유효전력']/train['피상전력']\n",
        "#test['T상역률cos'] = test['T상유효전력']/test['피상전력']"
      ],
      "execution_count": null,
      "outputs": []
    },
    {
      "cell_type": "markdown",
      "metadata": {
        "id": "-WG_yMw3SNS1"
      },
      "source": [
        "푸리에 변환\n",
        "- 적합한 컬럼을 푸리에 변환"
      ]
    },
    {
      "cell_type": "code",
      "metadata": {
        "id": "JchudTZuSJp1"
      },
      "source": [
        "def prepuriae(x):\n",
        "  fft = np.fft.fft(x) / len(x)\n",
        "  fft_abs = abs(fft)\n",
        "  return fft_abs\n",
        "\n",
        "def prebackpuriae(x):\n",
        "  fft = np.fft.ifft(x)*len(x)\n",
        "  fff_abs = abs(fft)\n",
        "  fff_abs\n",
        "  return fff_abs"
      ],
      "execution_count": null,
      "outputs": []
    },
    {
      "cell_type": "code",
      "metadata": {
        "id": "IrXSiyiVSD7j"
      },
      "source": [
        "#train_not_feature = train.columns[(train.columns.str.contains('평균') == False) & (train.columns.str.contains('label_') == False)]\n",
        "#test_not_feature = test.columns[test.columns.str.contains('평균') == False]\n",
        "#train['index'].rename('ID')\n",
        "#train[train_not_feature] = prepuriae(train[train_not_feature])\n",
        "#test[test_not_feature] = prepuriae(test[test_not_feature])"
      ],
      "execution_count": null,
      "outputs": []
    },
    {
      "cell_type": "code",
      "metadata": {
        "colab": {
          "base_uri": "https://localhost:8080/"
        },
        "id": "O3AEb5tDSV0I",
        "outputId": "9507c45a-2bf8-417f-a5fa-26dec9e68fb5"
      },
      "source": [
        "train.columns"
      ],
      "execution_count": null,
      "outputs": [
        {
          "output_type": "execute_result",
          "data": {
            "text/plain": [
              "Index(['index', '누적전력량', '유효전력평균', '무효전력평균', '주파수', '전류평균', '상전압평균', '선간전압평균',\n",
              "       '온도', 'R상유효전력', 'R상무효전력', 'R상전류', 'R상전압', 'R상선간전압', 'S상유효전력', 'S상무효전력',\n",
              "       'S상전류', 'S상전압', 'S상선간전압', 'T상유효전력', 'T상무효전력', 'T상전류', 'T상전압', 'T상선간전압',\n",
              "       'label_역률평균', 'label_전류고조파평균', 'label_전압고조파평균', 'R상전력', 'S상전력', 'T상전력'],\n",
              "      dtype='object')"
            ]
          },
          "metadata": {
            "tags": []
          },
          "execution_count": 67
        }
      ]
    },
    {
      "cell_type": "code",
      "metadata": {
        "id": "G0cDbaBnR6aw"
      },
      "source": [
        "df_columns2 = {'누적전력량', '유효전력평균', '무효전력평균', '주파수', '전류평균', '상전압평균', '선간전압평균',\n",
        "       '온도', 'R상유효전력', 'R상무효전력', 'R상전류', 'R상전압', 'R상선간전압', 'S상유효전력', 'S상무효전력',\n",
        "       'S상전류', 'S상전압', 'S상선간전압', 'T상유효전력', 'T상무효전력', 'T상전류', 'T상전압', 'T상선간전압','R상전력', 'S상전력', 'T상전력',\n",
        "       '피상전력', 'R상역률cos', 'S상역률cos', 'T상역률cos'}"
      ],
      "execution_count": null,
      "outputs": []
    },
    {
      "cell_type": "code",
      "metadata": {
        "colab": {
          "base_uri": "https://localhost:8080/"
        },
        "id": "4yt7iM7MVc4U",
        "outputId": "f6eb698f-294a-4da2-fa01-aa77feb01f3f"
      },
      "source": [
        "train.isnull().sum()"
      ],
      "execution_count": null,
      "outputs": [
        {
          "output_type": "execute_result",
          "data": {
            "text/plain": [
              "index            0\n",
              "누적전력량            0\n",
              "유효전력평균           0\n",
              "무효전력평균           0\n",
              "주파수              0\n",
              "전류평균             0\n",
              "상전압평균            0\n",
              "선간전압평균           0\n",
              "온도               0\n",
              "R상유효전력           0\n",
              "R상무효전력           0\n",
              "R상전류             0\n",
              "R상전압             0\n",
              "R상선간전압           0\n",
              "S상유효전력           0\n",
              "S상무효전력           0\n",
              "S상전류             0\n",
              "S상전압             0\n",
              "S상선간전압           0\n",
              "T상유효전력           0\n",
              "T상무효전력           0\n",
              "T상전류             0\n",
              "T상전압             0\n",
              "T상선간전압           0\n",
              "label_역률평균       0\n",
              "label_전류고조파평균    0\n",
              "label_전압고조파평균    0\n",
              "R상전력             0\n",
              "S상전력             0\n",
              "T상전력             0\n",
              "dtype: int64"
            ]
          },
          "metadata": {
            "tags": []
          },
          "execution_count": 69
        }
      ]
    },
    {
      "cell_type": "code",
      "metadata": {
        "colab": {
          "base_uri": "https://localhost:8080/"
        },
        "id": "WBfZ-6WbVfYM",
        "outputId": "9388bf84-3159-41d9-82a1-564756e48a68"
      },
      "source": [
        "test.isnull().sum()"
      ],
      "execution_count": null,
      "outputs": [
        {
          "output_type": "execute_result",
          "data": {
            "text/plain": [
              "ID        0\n",
              "누적전력량     0\n",
              "유효전력평균    0\n",
              "무효전력평균    0\n",
              "주파수       0\n",
              "전류평균      0\n",
              "상전압평균     0\n",
              "선간전압평균    0\n",
              "온도        0\n",
              "R상유효전력    0\n",
              "R상무효전력    0\n",
              "R상전류      0\n",
              "R상전압      0\n",
              "R상선간전압    0\n",
              "S상유효전력    0\n",
              "S상무효전력    0\n",
              "S상전류      0\n",
              "S상전압      0\n",
              "S상선간전압    0\n",
              "T상유효전력    0\n",
              "T상무효전력    0\n",
              "T상전류      0\n",
              "T상전압      0\n",
              "T상선간전압    0\n",
              "R상전력      0\n",
              "S상전력      0\n",
              "T상전력      0\n",
              "dtype: int64"
            ]
          },
          "metadata": {
            "tags": []
          },
          "execution_count": 70
        }
      ]
    },
    {
      "cell_type": "code",
      "metadata": {
        "colab": {
          "base_uri": "https://localhost:8080/"
        },
        "id": "yOC32VTQOMCL",
        "outputId": "113bbb1d-8306-4775-c830-66c5f1789078"
      },
      "source": [
        "pip install catboost"
      ],
      "execution_count": null,
      "outputs": [
        {
          "output_type": "stream",
          "text": [
            "Requirement already satisfied: catboost in /usr/local/lib/python3.7/dist-packages (0.26)\n",
            "Requirement already satisfied: six in /usr/local/lib/python3.7/dist-packages (from catboost) (1.15.0)\n",
            "Requirement already satisfied: pandas>=0.24.0 in /usr/local/lib/python3.7/dist-packages (from catboost) (1.1.5)\n",
            "Requirement already satisfied: plotly in /usr/local/lib/python3.7/dist-packages (from catboost) (4.4.1)\n",
            "Requirement already satisfied: scipy in /usr/local/lib/python3.7/dist-packages (from catboost) (1.4.1)\n",
            "Requirement already satisfied: graphviz in /usr/local/lib/python3.7/dist-packages (from catboost) (0.10.1)\n",
            "Requirement already satisfied: numpy>=1.16.0 in /usr/local/lib/python3.7/dist-packages (from catboost) (1.19.5)\n",
            "Requirement already satisfied: matplotlib in /usr/local/lib/python3.7/dist-packages (from catboost) (3.2.2)\n",
            "Requirement already satisfied: pytz>=2017.2 in /usr/local/lib/python3.7/dist-packages (from pandas>=0.24.0->catboost) (2018.9)\n",
            "Requirement already satisfied: python-dateutil>=2.7.3 in /usr/local/lib/python3.7/dist-packages (from pandas>=0.24.0->catboost) (2.8.1)\n",
            "Requirement already satisfied: retrying>=1.3.3 in /usr/local/lib/python3.7/dist-packages (from plotly->catboost) (1.3.3)\n",
            "Requirement already satisfied: cycler>=0.10 in /usr/local/lib/python3.7/dist-packages (from matplotlib->catboost) (0.10.0)\n",
            "Requirement already satisfied: kiwisolver>=1.0.1 in /usr/local/lib/python3.7/dist-packages (from matplotlib->catboost) (1.3.1)\n",
            "Requirement already satisfied: pyparsing!=2.0.4,!=2.1.2,!=2.1.6,>=2.0.1 in /usr/local/lib/python3.7/dist-packages (from matplotlib->catboost) (2.4.7)\n"
          ],
          "name": "stdout"
        }
      ]
    },
    {
      "cell_type": "code",
      "metadata": {
        "id": "E6-bntzwKL9R"
      },
      "source": [
        "from sklearn.model_selection import train_test_split\n",
        "from catboost import CatBoostClassifier\n",
        "from sklearn.metrics import log_loss\n",
        "from sklearn.model_selection import StratifiedKFold\n",
        "from tensorflow.keras.utils import to_categorical\n",
        "from tensorflow.keras.models import Sequential\n",
        "from tensorflow.keras.layers import Dense\n",
        "from tensorflow.keras import optimizers\n",
        "from sklearn.neighbors import KNeighborsClassifier\n",
        "import lightgbm as lgb\n",
        "from sklearn.linear_model import LogisticRegression"
      ],
      "execution_count": null,
      "outputs": []
    },
    {
      "cell_type": "code",
      "metadata": {
        "id": "AHqVOQjFw0Ad"
      },
      "source": [
        "train_x = train.drop(['label_역률평균','label_전류고조파평균','label_전압고조파평균'],axis=1)\n",
        "train_y = train[['label_역률평균','label_전류고조파평균','label_전압고조파평균']]"
      ],
      "execution_count": null,
      "outputs": []
    },
    {
      "cell_type": "code",
      "metadata": {
        "id": "yuukywEiQN6I"
      },
      "source": [
        "(X_train, X_test, y_train, y_test) = train_test_split(train_x, train_y, train_size=0.8, random_state=11)"
      ],
      "execution_count": null,
      "outputs": []
    },
    {
      "cell_type": "code",
      "metadata": {
        "colab": {
          "base_uri": "https://localhost:8080/"
        },
        "id": "RzazIINzPRpB",
        "outputId": "64270f7f-6236-41f5-f4ce-56986ba1ac7d"
      },
      "source": [
        "X_train.shape, y_train.shape,X_test.shape,y_test.shape"
      ],
      "execution_count": null,
      "outputs": [
        {
          "output_type": "execute_result",
          "data": {
            "text/plain": [
              "((1936452, 27), (1936452, 3), (484113, 27), (484113, 3))"
            ]
          },
          "metadata": {
            "tags": []
          },
          "execution_count": 31
        }
      ]
    },
    {
      "cell_type": "code",
      "metadata": {
        "id": "Aq8ss1oDRRQB"
      },
      "source": [
        "knn = KNeighborsClassifier(n_neighbors=1)\n",
        "knn.fit(X_train,y_train)\n",
        "\n",
        "clf = LogisticRegression(solver='newton-cg', max_iter=100)\n",
        "clf.fit(X_train,y_train)"
      ],
      "execution_count": null,
      "outputs": []
    },
    {
      "cell_type": "code",
      "metadata": {
        "id": "mtg6VmJ8V3bm"
      },
      "source": [
        "y_pred = knn.predict(test)\n",
        "y_pred1 = clf.predict(test)"
      ],
      "execution_count": null,
      "outputs": []
    },
    {
      "cell_type": "code",
      "metadata": {
        "colab": {
          "base_uri": "https://localhost:8080/"
        },
        "id": "lWmFEqbWWV2C",
        "outputId": "691136f1-527d-4837-ef2a-1557932d7cb8"
      },
      "source": [
        "y_pred"
      ],
      "execution_count": null,
      "outputs": [
        {
          "output_type": "execute_result",
          "data": {
            "text/plain": [
              "array([['정상', '주의', '경고'],\n",
              "       ['경고', '정상', '경고'],\n",
              "       ['주의', '정상', '정상'],\n",
              "       ...,\n",
              "       ['경고', '정상', '정상'],\n",
              "       ['정상', '주의', '주의'],\n",
              "       ['정상', '주의', '정상']], dtype=object)"
            ]
          },
          "metadata": {
            "tags": []
          },
          "execution_count": 243
        }
      ]
    },
    {
      "cell_type": "code",
      "metadata": {
        "id": "kxArXwAgOMej"
      },
      "source": [
        "y_pred1"
      ],
      "execution_count": null,
      "outputs": []
    },
    {
      "cell_type": "code",
      "metadata": {
        "id": "pPY1ILO-WJ-H"
      },
      "source": [
        "#submission[['label_역률평균','label_전류고조파평균','label_전압고조파평균']] = y_pred\n",
        "submission[['label_역률평균','label_전류고조파평균','label_전압고조파평균']] = y_pred1"
      ],
      "execution_count": null,
      "outputs": []
    },
    {
      "cell_type": "code",
      "metadata": {
        "id": "Mrh129K7WGjS"
      },
      "source": [
        "submission.to_csv('baseline_logistic.csv',index=False)"
      ],
      "execution_count": null,
      "outputs": []
    },
    {
      "cell_type": "code",
      "metadata": {
        "colab": {
          "base_uri": "https://localhost:8080/",
          "height": 418
        },
        "id": "8O_DnIgWXPqN",
        "outputId": "2c8d6745-7470-4ee1-a678-ed6a4c6b3f31"
      },
      "source": [
        "submission"
      ],
      "execution_count": null,
      "outputs": [
        {
          "output_type": "execute_result",
          "data": {
            "text/html": [
              "<div>\n",
              "<style scoped>\n",
              "    .dataframe tbody tr th:only-of-type {\n",
              "        vertical-align: middle;\n",
              "    }\n",
              "\n",
              "    .dataframe tbody tr th {\n",
              "        vertical-align: top;\n",
              "    }\n",
              "\n",
              "    .dataframe thead th {\n",
              "        text-align: right;\n",
              "    }\n",
              "</style>\n",
              "<table border=\"1\" class=\"dataframe\">\n",
              "  <thead>\n",
              "    <tr style=\"text-align: right;\">\n",
              "      <th></th>\n",
              "      <th>ID</th>\n",
              "      <th>label_역률평균</th>\n",
              "      <th>label_전류고조파평균</th>\n",
              "      <th>label_전압고조파평균</th>\n",
              "    </tr>\n",
              "  </thead>\n",
              "  <tbody>\n",
              "    <tr>\n",
              "      <th>0</th>\n",
              "      <td>0</td>\n",
              "      <td>정상</td>\n",
              "      <td>주의</td>\n",
              "      <td>경고</td>\n",
              "    </tr>\n",
              "    <tr>\n",
              "      <th>1</th>\n",
              "      <td>1</td>\n",
              "      <td>경고</td>\n",
              "      <td>정상</td>\n",
              "      <td>경고</td>\n",
              "    </tr>\n",
              "    <tr>\n",
              "      <th>2</th>\n",
              "      <td>2</td>\n",
              "      <td>주의</td>\n",
              "      <td>정상</td>\n",
              "      <td>정상</td>\n",
              "    </tr>\n",
              "    <tr>\n",
              "      <th>3</th>\n",
              "      <td>3</td>\n",
              "      <td>정상</td>\n",
              "      <td>정상</td>\n",
              "      <td>정상</td>\n",
              "    </tr>\n",
              "    <tr>\n",
              "      <th>4</th>\n",
              "      <td>4</td>\n",
              "      <td>경고</td>\n",
              "      <td>주의</td>\n",
              "      <td>경고</td>\n",
              "    </tr>\n",
              "    <tr>\n",
              "      <th>...</th>\n",
              "      <td>...</td>\n",
              "      <td>...</td>\n",
              "      <td>...</td>\n",
              "      <td>...</td>\n",
              "    </tr>\n",
              "    <tr>\n",
              "      <th>313262</th>\n",
              "      <td>313263</td>\n",
              "      <td>경고</td>\n",
              "      <td>주의</td>\n",
              "      <td>정상</td>\n",
              "    </tr>\n",
              "    <tr>\n",
              "      <th>313263</th>\n",
              "      <td>313264</td>\n",
              "      <td>경고</td>\n",
              "      <td>정상</td>\n",
              "      <td>정상</td>\n",
              "    </tr>\n",
              "    <tr>\n",
              "      <th>313264</th>\n",
              "      <td>313265</td>\n",
              "      <td>경고</td>\n",
              "      <td>정상</td>\n",
              "      <td>정상</td>\n",
              "    </tr>\n",
              "    <tr>\n",
              "      <th>313265</th>\n",
              "      <td>313266</td>\n",
              "      <td>정상</td>\n",
              "      <td>주의</td>\n",
              "      <td>주의</td>\n",
              "    </tr>\n",
              "    <tr>\n",
              "      <th>313266</th>\n",
              "      <td>313267</td>\n",
              "      <td>정상</td>\n",
              "      <td>주의</td>\n",
              "      <td>정상</td>\n",
              "    </tr>\n",
              "  </tbody>\n",
              "</table>\n",
              "<p>313267 rows × 4 columns</p>\n",
              "</div>"
            ],
            "text/plain": [
              "            ID label_역률평균 label_전류고조파평균 label_전압고조파평균\n",
              "0            0         정상            주의            경고\n",
              "1            1         경고            정상            경고\n",
              "2            2         주의            정상            정상\n",
              "3            3         정상            정상            정상\n",
              "4            4         경고            주의            경고\n",
              "...        ...        ...           ...           ...\n",
              "313262  313263         경고            주의            정상\n",
              "313263  313264         경고            정상            정상\n",
              "313264  313265         경고            정상            정상\n",
              "313265  313266         정상            주의            주의\n",
              "313266  313267         정상            주의            정상\n",
              "\n",
              "[313267 rows x 4 columns]"
            ]
          },
          "metadata": {
            "tags": []
          },
          "execution_count": 247
        }
      ]
    },
    {
      "cell_type": "code",
      "metadata": {
        "colab": {
          "base_uri": "https://localhost:8080/",
          "height": 159
        },
        "id": "0NfFi3M7XzW8",
        "outputId": "0d5255d4-948a-4af5-80ec-1377843c0817"
      },
      "source": [
        "\"\"\"\n",
        "from sklearn.compose import ColumnTransformer\n",
        "from sklearn.pipeline import Pipeline\n",
        "from sklearn.impute import SimpleImputer\n",
        "from sklearn.preprocessing import StandardScaler, OneHotEncoder\n",
        "from sklearn.experimental import enable_iterative_imputer\n",
        "from sklearn.impute import IterativeImputer\n",
        "numeric_features = [0,1,2]\n",
        "numeric_transformer = Pipeline(steps=[('imputer', IterativeImputer(random_state=11)),('scaler',StandardScaler())])\n",
        "preprocessor = ColumnTransformer(transformers=[('num',numeric_transformer, numeric_features)])\n",
        "model = Pipeline(steps=[('preprocessor',preprocessor),('classifier',CatBoostClassifier(loss_function='MultiClass',class_weights=[.21,.82,.97],iterations=3000,depth=10,random_state=11))])\n",
        "model.fit(X_train,y_train)\n",
        "\"\"\""
      ],
      "execution_count": null,
      "outputs": [
        {
          "output_type": "execute_result",
          "data": {
            "application/vnd.google.colaboratory.intrinsic+json": {
              "type": "string"
            },
            "text/plain": [
              "\"\\nfrom sklearn.compose import ColumnTransformer\\nfrom sklearn.pipeline import Pipeline\\nfrom sklearn.impute import SimpleImputer\\nfrom sklearn.preprocessing import StandardScaler, OneHotEncoder\\nfrom sklearn.experimental import enable_iterative_imputer\\nfrom sklearn.impute import IterativeImputer\\nnumeric_features = [0,1,2]\\nnumeric_transformer = Pipeline(steps=[('imputer', IterativeImputer(random_state=11)),('scaler',StandardScaler())])\\npreprocessor = ColumnTransformer(transformers=[('num',numeric_transformer, numeric_features)])\\nmodel = Pipeline(steps=[('preprocessor',preprocessor),('classifier',CatBoostClassifier(loss_function='MultiClass',class_weights=[.21,.82,.97],iterations=3000,depth=10,random_state=11))])\\nmodel.fit(X_train,y_train)\\n\""
            ]
          },
          "metadata": {
            "tags": []
          },
          "execution_count": 266
        }
      ]
    },
    {
      "cell_type": "code",
      "metadata": {
        "id": "Bj10xD8ueVGZ"
      },
      "source": [
        "\n",
        "import numpy as np # linear algebra\n",
        "import pandas as pd # data processing, CSV file I/O (e.g. pd.read_csv)\n",
        "\n",
        "from sklearn.model_selection import train_test_split\n",
        "from sklearn.metrics import confusion_matrix\n",
        "from sklearn.metrics import roc_auc_score\n",
        "from sklearn.metrics import classification_report\n",
        "from sklearn.datasets import make_multilabel_classification\n",
        "from xgboost import XGBClassifier\n",
        "from sklearn.model_selection import KFold\n",
        "from sklearn.multioutput import MultiOutputClassifier\n",
        "from sklearn.pipeline import Pipeline"
      ],
      "execution_count": null,
      "outputs": []
    },
    {
      "cell_type": "code",
      "metadata": {
        "id": "YlmLx_0QZnCB"
      },
      "source": [
        "from xgboost import XGBClassifier\n",
        "import tensorflow as tf\n",
        "from sklearn.preprocessing import LabelEncoder"
      ],
      "execution_count": null,
      "outputs": []
    },
    {
      "cell_type": "code",
      "metadata": {
        "colab": {
          "base_uri": "https://localhost:8080/",
          "height": 354
        },
        "id": "tyUnxpHXlZIr",
        "outputId": "c26f4153-0d64-4a42-d7e5-1447da52041d"
      },
      "source": [
        "#num_classes = len(np.unique(y_train))\n",
        "#y_train_categorical = tf.keras.utils.to_categorical(y_train, num_classes)"
      ],
      "execution_count": null,
      "outputs": [
        {
          "output_type": "error",
          "ename": "ValueError",
          "evalue": "ignored",
          "traceback": [
            "\u001b[0;31m---------------------------------------------------------------------------\u001b[0m",
            "\u001b[0;31mValueError\u001b[0m                                Traceback (most recent call last)",
            "\u001b[0;32m<ipython-input-79-dfabba2e2969>\u001b[0m in \u001b[0;36m<module>\u001b[0;34m()\u001b[0m\n\u001b[1;32m      1\u001b[0m \u001b[0mnum_classes\u001b[0m \u001b[0;34m=\u001b[0m \u001b[0mlen\u001b[0m\u001b[0;34m(\u001b[0m\u001b[0mnp\u001b[0m\u001b[0;34m.\u001b[0m\u001b[0munique\u001b[0m\u001b[0;34m(\u001b[0m\u001b[0my_train\u001b[0m\u001b[0;34m)\u001b[0m\u001b[0;34m)\u001b[0m\u001b[0;34m\u001b[0m\u001b[0;34m\u001b[0m\u001b[0m\n\u001b[0;32m----> 2\u001b[0;31m \u001b[0my_train_categorical\u001b[0m \u001b[0;34m=\u001b[0m \u001b[0mtf\u001b[0m\u001b[0;34m.\u001b[0m\u001b[0mkeras\u001b[0m\u001b[0;34m.\u001b[0m\u001b[0mutils\u001b[0m\u001b[0;34m.\u001b[0m\u001b[0mto_categorical\u001b[0m\u001b[0;34m(\u001b[0m\u001b[0my_train\u001b[0m\u001b[0;34m,\u001b[0m \u001b[0mnum_classes\u001b[0m\u001b[0;34m)\u001b[0m\u001b[0;34m\u001b[0m\u001b[0;34m\u001b[0m\u001b[0m\n\u001b[0m",
            "\u001b[0;32m/usr/local/lib/python3.7/dist-packages/tensorflow/python/keras/utils/np_utils.py\u001b[0m in \u001b[0;36mto_categorical\u001b[0;34m(y, num_classes, dtype)\u001b[0m\n\u001b[1;32m     64\u001b[0m \u001b[0;34m\u001b[0m\u001b[0m\n\u001b[1;32m     65\u001b[0m   \"\"\"\n\u001b[0;32m---> 66\u001b[0;31m   \u001b[0my\u001b[0m \u001b[0;34m=\u001b[0m \u001b[0mnp\u001b[0m\u001b[0;34m.\u001b[0m\u001b[0marray\u001b[0m\u001b[0;34m(\u001b[0m\u001b[0my\u001b[0m\u001b[0;34m,\u001b[0m \u001b[0mdtype\u001b[0m\u001b[0;34m=\u001b[0m\u001b[0;34m'int'\u001b[0m\u001b[0;34m)\u001b[0m\u001b[0;34m\u001b[0m\u001b[0;34m\u001b[0m\u001b[0m\n\u001b[0m\u001b[1;32m     67\u001b[0m   \u001b[0minput_shape\u001b[0m \u001b[0;34m=\u001b[0m \u001b[0my\u001b[0m\u001b[0;34m.\u001b[0m\u001b[0mshape\u001b[0m\u001b[0;34m\u001b[0m\u001b[0;34m\u001b[0m\u001b[0m\n\u001b[1;32m     68\u001b[0m   \u001b[0;32mif\u001b[0m \u001b[0minput_shape\u001b[0m \u001b[0;32mand\u001b[0m \u001b[0minput_shape\u001b[0m\u001b[0;34m[\u001b[0m\u001b[0;34m-\u001b[0m\u001b[0;36m1\u001b[0m\u001b[0;34m]\u001b[0m \u001b[0;34m==\u001b[0m \u001b[0;36m1\u001b[0m \u001b[0;32mand\u001b[0m \u001b[0mlen\u001b[0m\u001b[0;34m(\u001b[0m\u001b[0minput_shape\u001b[0m\u001b[0;34m)\u001b[0m \u001b[0;34m>\u001b[0m \u001b[0;36m1\u001b[0m\u001b[0;34m:\u001b[0m\u001b[0;34m\u001b[0m\u001b[0;34m\u001b[0m\u001b[0m\n",
            "\u001b[0;32m/usr/local/lib/python3.7/dist-packages/pandas/core/generic.py\u001b[0m in \u001b[0;36m__array__\u001b[0;34m(self, dtype)\u001b[0m\n\u001b[1;32m   1779\u001b[0m \u001b[0;34m\u001b[0m\u001b[0m\n\u001b[1;32m   1780\u001b[0m     \u001b[0;32mdef\u001b[0m \u001b[0m__array__\u001b[0m\u001b[0;34m(\u001b[0m\u001b[0mself\u001b[0m\u001b[0;34m,\u001b[0m \u001b[0mdtype\u001b[0m\u001b[0;34m=\u001b[0m\u001b[0;32mNone\u001b[0m\u001b[0;34m)\u001b[0m \u001b[0;34m->\u001b[0m \u001b[0mnp\u001b[0m\u001b[0;34m.\u001b[0m\u001b[0mndarray\u001b[0m\u001b[0;34m:\u001b[0m\u001b[0;34m\u001b[0m\u001b[0;34m\u001b[0m\u001b[0m\n\u001b[0;32m-> 1781\u001b[0;31m         \u001b[0;32mreturn\u001b[0m \u001b[0mnp\u001b[0m\u001b[0;34m.\u001b[0m\u001b[0masarray\u001b[0m\u001b[0;34m(\u001b[0m\u001b[0mself\u001b[0m\u001b[0;34m.\u001b[0m\u001b[0m_values\u001b[0m\u001b[0;34m,\u001b[0m \u001b[0mdtype\u001b[0m\u001b[0;34m=\u001b[0m\u001b[0mdtype\u001b[0m\u001b[0;34m)\u001b[0m\u001b[0;34m\u001b[0m\u001b[0;34m\u001b[0m\u001b[0m\n\u001b[0m\u001b[1;32m   1782\u001b[0m \u001b[0;34m\u001b[0m\u001b[0m\n\u001b[1;32m   1783\u001b[0m     \u001b[0;32mdef\u001b[0m \u001b[0m__array_wrap__\u001b[0m\u001b[0;34m(\u001b[0m\u001b[0mself\u001b[0m\u001b[0;34m,\u001b[0m \u001b[0mresult\u001b[0m\u001b[0;34m,\u001b[0m \u001b[0mcontext\u001b[0m\u001b[0;34m=\u001b[0m\u001b[0;32mNone\u001b[0m\u001b[0;34m)\u001b[0m\u001b[0;34m:\u001b[0m\u001b[0;34m\u001b[0m\u001b[0;34m\u001b[0m\u001b[0m\n",
            "\u001b[0;32m/usr/local/lib/python3.7/dist-packages/numpy/core/_asarray.py\u001b[0m in \u001b[0;36masarray\u001b[0;34m(a, dtype, order)\u001b[0m\n\u001b[1;32m     81\u001b[0m \u001b[0;34m\u001b[0m\u001b[0m\n\u001b[1;32m     82\u001b[0m     \"\"\"\n\u001b[0;32m---> 83\u001b[0;31m     \u001b[0;32mreturn\u001b[0m \u001b[0marray\u001b[0m\u001b[0;34m(\u001b[0m\u001b[0ma\u001b[0m\u001b[0;34m,\u001b[0m \u001b[0mdtype\u001b[0m\u001b[0;34m,\u001b[0m \u001b[0mcopy\u001b[0m\u001b[0;34m=\u001b[0m\u001b[0;32mFalse\u001b[0m\u001b[0;34m,\u001b[0m \u001b[0morder\u001b[0m\u001b[0;34m=\u001b[0m\u001b[0morder\u001b[0m\u001b[0;34m)\u001b[0m\u001b[0;34m\u001b[0m\u001b[0;34m\u001b[0m\u001b[0m\n\u001b[0m\u001b[1;32m     84\u001b[0m \u001b[0;34m\u001b[0m\u001b[0m\n\u001b[1;32m     85\u001b[0m \u001b[0;34m\u001b[0m\u001b[0m\n",
            "\u001b[0;31mValueError\u001b[0m: invalid literal for int() with base 10: '정상'"
          ]
        }
      ]
    },
    {
      "cell_type": "code",
      "metadata": {
        "id": "Rcs0px4U4tmg"
      },
      "source": [
        "cat_models={}\n",
        "\n",
        "def cat_kfold(max_depth, learning_rate, random_seed):\n",
        "    \n",
        "    folds=StratifiedKFold(n_splits=10, shuffle=True, random_state=55)\n",
        "    outcomes=[]\n",
        "    sub=np.zeros((test.shape[0], 3))  \n",
        "    \n",
        "    for seed in random_seed:\n",
        "        for n_fold, (train_index, val_index) in enumerate(folds.split(train_x, train_y)):\n",
        "            print(f'===================================={n_fold+1}============================================')\n",
        "            \n",
        "            X_train, X_val = train_x.iloc[train_index], train_x.iloc[val_index]\n",
        "            y_train, y_val = train_y.iloc[train_index], train_y.iloc[val_index]\n",
        "\n",
        "            # early_stopping 50에서 가장 좋은 점수를 내는 learning_rate를 활용\n",
        "            cat = CatBoostClassifier(n_estimators=3000, max_depth=max_depth, random_seed=seed, learning_rate=learning_rate, bootstrap_type ='Bernoulli')\n",
        "            cat.fit(X_train, y_train,\n",
        "                  eval_set=[(X_train, y_train), (X_val, y_val)],\n",
        "                  early_stopping_rounds=50, cat_features=cat_features,\n",
        "                  verbose=100)\n",
        "\n",
        "            cat_models[n_fold] = cat\n",
        "\n",
        "            # val 데이터 예측\n",
        "            predictions = cat.predict_proba(X_val)\n",
        "            # test 데이터 예측\n",
        "            test_predictions = cat.predict_proba(test)\n",
        "\n",
        "            # val 데이터 예측 logloss 값 저장\n",
        "            logloss=log_loss(to_categorical(y_val), predictions)\n",
        "            outcomes.append(logloss)\n",
        "            print(f\"FOLD {n_fold+1} : logloss:{logloss}\")\n",
        "\n",
        "            # test 데이터 예측 결과 종합\n",
        "            # 최종 적으로는 kolds 횟수 만큼 나눠서 평균 값을 활용\n",
        "            sub+=test_predictions\n",
        "\n",
        "            print(f'================================================================================\\n\\n')\n",
        "\n",
        "    # 저장된 val 데이터 예측 logloss 값의 평균 값으로 성능을 비교\n",
        "    mean_outcome=np.mean(outcomes)\n",
        "    print(\"Mean:{}\".format(mean_outcome))\n",
        "    \n",
        "    return sub/(folds.n_splits * len(random_seed))"
      ],
      "execution_count": null,
      "outputs": []
    },
    {
      "cell_type": "code",
      "metadata": {
        "colab": {
          "base_uri": "https://localhost:8080/",
          "height": 407
        },
        "id": "DaCGGXfZfoAN",
        "outputId": "c8a30e98-63ba-4ec9-fda7-0b032781cf0e"
      },
      "source": [
        "    skf = StratifiedKFold(n_splits=5, shuffle=True, random_state=199)\n",
        "    folds = []\n",
        "    for train_idx, valid_idx in skf.split(X_train,y_train_categorical):\n",
        "        folds.append((train_idx, valid_idx))\n",
        "\n",
        "    lgb_models = {}\n",
        "    bestmodel = []\n",
        "\n",
        "    from sklearn.metrics import f1_score\n",
        "\n",
        "    def macro_f1(y_true, y_pred):\n",
        "        score = f1_score(y_true=y_true, y_pred=y_pred, average='macro')\n",
        "        return score\n",
        "\n",
        "    for fold in range(5):\n",
        "      print(f'===================================={fold + 1}============================================')\n",
        "      train_idx, valid_idx = folds[fold]\n",
        "      x_train, x_test, y_train, y_test = train_features.iloc[train_idx].values, \\\n",
        "                                           train_features.iloc[valid_idx].values, \\\n",
        "                                           train[['label_역률평균','label_전류고조파평균','label_전압고조파평균']][train_idx].values, train[['label_역률평균','label_전류고조파평균','label_전압고조파평균']][valid_idx].values\n",
        "      model = LGBMClassifier(n_estimators=3000, learning_rate=0.03, random_state=19, reg_lambda=0.3)  # , boosting_type='dart')\n",
        "      model.fit(x_train, y_train,\n",
        "                  eval_set=[(x_train, y_train), (x_test, y_test)],\n",
        "                  early_stopping_rounds=500,\n",
        "                  verbose=100,\n",
        "                  eval_metric='multi_logloss')\n",
        "      lgb_models[fold] = model\n",
        "      bestmodel.append([fold, model.best_score_['valid_1']['multi_logloss']])\n",
        "      f_imp = pd.DataFrame({'IMPORTANCE': train_features.columns, 'VALUES': model.feature_importances_}).sort_values('VALUES', ascending=False)\n",
        "      print(f_imp)\n",
        "      print(f'================================================================================\\n\\n')\n"
      ],
      "execution_count": null,
      "outputs": [
        {
          "output_type": "error",
          "ename": "ValueError",
          "evalue": "ignored",
          "traceback": [
            "\u001b[0;31m---------------------------------------------------------------------------\u001b[0m",
            "\u001b[0;31mValueError\u001b[0m                                Traceback (most recent call last)",
            "\u001b[0;32m<ipython-input-74-ca413caca4c9>\u001b[0m in \u001b[0;36m<module>\u001b[0;34m()\u001b[0m\n\u001b[1;32m      1\u001b[0m \u001b[0mskf\u001b[0m \u001b[0;34m=\u001b[0m \u001b[0mStratifiedKFold\u001b[0m\u001b[0;34m(\u001b[0m\u001b[0mn_splits\u001b[0m\u001b[0;34m=\u001b[0m\u001b[0;36m5\u001b[0m\u001b[0;34m,\u001b[0m \u001b[0mshuffle\u001b[0m\u001b[0;34m=\u001b[0m\u001b[0;32mTrue\u001b[0m\u001b[0;34m,\u001b[0m \u001b[0mrandom_state\u001b[0m\u001b[0;34m=\u001b[0m\u001b[0;36m199\u001b[0m\u001b[0;34m)\u001b[0m\u001b[0;34m\u001b[0m\u001b[0;34m\u001b[0m\u001b[0m\n\u001b[1;32m      2\u001b[0m \u001b[0mfolds\u001b[0m \u001b[0;34m=\u001b[0m \u001b[0;34m[\u001b[0m\u001b[0;34m]\u001b[0m\u001b[0;34m\u001b[0m\u001b[0;34m\u001b[0m\u001b[0m\n\u001b[0;32m----> 3\u001b[0;31m \u001b[0;32mfor\u001b[0m \u001b[0mtrain_idx\u001b[0m\u001b[0;34m,\u001b[0m \u001b[0mvalid_idx\u001b[0m \u001b[0;32min\u001b[0m \u001b[0mskf\u001b[0m\u001b[0;34m.\u001b[0m\u001b[0msplit\u001b[0m\u001b[0;34m(\u001b[0m\u001b[0mX_train\u001b[0m\u001b[0;34m,\u001b[0m \u001b[0mtrain\u001b[0m\u001b[0;34m[\u001b[0m\u001b[0;34m[\u001b[0m\u001b[0;34m'label_역률평균'\u001b[0m\u001b[0;34m,\u001b[0m\u001b[0;34m'label_전류고조파평균'\u001b[0m\u001b[0;34m,\u001b[0m\u001b[0;34m'label_전압고조파평균'\u001b[0m\u001b[0;34m]\u001b[0m\u001b[0;34m]\u001b[0m\u001b[0;34m)\u001b[0m\u001b[0;34m:\u001b[0m\u001b[0;34m\u001b[0m\u001b[0;34m\u001b[0m\u001b[0m\n\u001b[0m\u001b[1;32m      4\u001b[0m     \u001b[0mfolds\u001b[0m\u001b[0;34m.\u001b[0m\u001b[0mappend\u001b[0m\u001b[0;34m(\u001b[0m\u001b[0;34m(\u001b[0m\u001b[0mtrain_idx\u001b[0m\u001b[0;34m,\u001b[0m \u001b[0mvalid_idx\u001b[0m\u001b[0;34m)\u001b[0m\u001b[0;34m)\u001b[0m\u001b[0;34m\u001b[0m\u001b[0;34m\u001b[0m\u001b[0m\n\u001b[1;32m      5\u001b[0m \u001b[0;34m\u001b[0m\u001b[0m\n",
            "\u001b[0;32m/usr/local/lib/python3.7/dist-packages/sklearn/model_selection/_split.py\u001b[0m in \u001b[0;36msplit\u001b[0;34m(self, X, y, groups)\u001b[0m\n\u001b[1;32m    333\u001b[0m                 .format(self.n_splits, n_samples))\n\u001b[1;32m    334\u001b[0m \u001b[0;34m\u001b[0m\u001b[0m\n\u001b[0;32m--> 335\u001b[0;31m         \u001b[0;32mfor\u001b[0m \u001b[0mtrain\u001b[0m\u001b[0;34m,\u001b[0m \u001b[0mtest\u001b[0m \u001b[0;32min\u001b[0m \u001b[0msuper\u001b[0m\u001b[0;34m(\u001b[0m\u001b[0;34m)\u001b[0m\u001b[0;34m.\u001b[0m\u001b[0msplit\u001b[0m\u001b[0;34m(\u001b[0m\u001b[0mX\u001b[0m\u001b[0;34m,\u001b[0m \u001b[0my\u001b[0m\u001b[0;34m,\u001b[0m \u001b[0mgroups\u001b[0m\u001b[0;34m)\u001b[0m\u001b[0;34m:\u001b[0m\u001b[0;34m\u001b[0m\u001b[0;34m\u001b[0m\u001b[0m\n\u001b[0m\u001b[1;32m    336\u001b[0m             \u001b[0;32myield\u001b[0m \u001b[0mtrain\u001b[0m\u001b[0;34m,\u001b[0m \u001b[0mtest\u001b[0m\u001b[0;34m\u001b[0m\u001b[0;34m\u001b[0m\u001b[0m\n\u001b[1;32m    337\u001b[0m \u001b[0;34m\u001b[0m\u001b[0m\n",
            "\u001b[0;32m/usr/local/lib/python3.7/dist-packages/sklearn/model_selection/_split.py\u001b[0m in \u001b[0;36msplit\u001b[0;34m(self, X, y, groups)\u001b[0m\n\u001b[1;32m     78\u001b[0m         \u001b[0mX\u001b[0m\u001b[0;34m,\u001b[0m \u001b[0my\u001b[0m\u001b[0;34m,\u001b[0m \u001b[0mgroups\u001b[0m \u001b[0;34m=\u001b[0m \u001b[0mindexable\u001b[0m\u001b[0;34m(\u001b[0m\u001b[0mX\u001b[0m\u001b[0;34m,\u001b[0m \u001b[0my\u001b[0m\u001b[0;34m,\u001b[0m \u001b[0mgroups\u001b[0m\u001b[0;34m)\u001b[0m\u001b[0;34m\u001b[0m\u001b[0;34m\u001b[0m\u001b[0m\n\u001b[1;32m     79\u001b[0m         \u001b[0mindices\u001b[0m \u001b[0;34m=\u001b[0m \u001b[0mnp\u001b[0m\u001b[0;34m.\u001b[0m\u001b[0marange\u001b[0m\u001b[0;34m(\u001b[0m\u001b[0m_num_samples\u001b[0m\u001b[0;34m(\u001b[0m\u001b[0mX\u001b[0m\u001b[0;34m)\u001b[0m\u001b[0;34m)\u001b[0m\u001b[0;34m\u001b[0m\u001b[0;34m\u001b[0m\u001b[0m\n\u001b[0;32m---> 80\u001b[0;31m         \u001b[0;32mfor\u001b[0m \u001b[0mtest_index\u001b[0m \u001b[0;32min\u001b[0m \u001b[0mself\u001b[0m\u001b[0;34m.\u001b[0m\u001b[0m_iter_test_masks\u001b[0m\u001b[0;34m(\u001b[0m\u001b[0mX\u001b[0m\u001b[0;34m,\u001b[0m \u001b[0my\u001b[0m\u001b[0;34m,\u001b[0m \u001b[0mgroups\u001b[0m\u001b[0;34m)\u001b[0m\u001b[0;34m:\u001b[0m\u001b[0;34m\u001b[0m\u001b[0;34m\u001b[0m\u001b[0m\n\u001b[0m\u001b[1;32m     81\u001b[0m             \u001b[0mtrain_index\u001b[0m \u001b[0;34m=\u001b[0m \u001b[0mindices\u001b[0m\u001b[0;34m[\u001b[0m\u001b[0mnp\u001b[0m\u001b[0;34m.\u001b[0m\u001b[0mlogical_not\u001b[0m\u001b[0;34m(\u001b[0m\u001b[0mtest_index\u001b[0m\u001b[0;34m)\u001b[0m\u001b[0;34m]\u001b[0m\u001b[0;34m\u001b[0m\u001b[0;34m\u001b[0m\u001b[0m\n\u001b[1;32m     82\u001b[0m             \u001b[0mtest_index\u001b[0m \u001b[0;34m=\u001b[0m \u001b[0mindices\u001b[0m\u001b[0;34m[\u001b[0m\u001b[0mtest_index\u001b[0m\u001b[0;34m]\u001b[0m\u001b[0;34m\u001b[0m\u001b[0;34m\u001b[0m\u001b[0m\n",
            "\u001b[0;32m/usr/local/lib/python3.7/dist-packages/sklearn/model_selection/_split.py\u001b[0m in \u001b[0;36m_iter_test_masks\u001b[0;34m(self, X, y, groups)\u001b[0m\n\u001b[1;32m    690\u001b[0m \u001b[0;34m\u001b[0m\u001b[0m\n\u001b[1;32m    691\u001b[0m     \u001b[0;32mdef\u001b[0m \u001b[0m_iter_test_masks\u001b[0m\u001b[0;34m(\u001b[0m\u001b[0mself\u001b[0m\u001b[0;34m,\u001b[0m \u001b[0mX\u001b[0m\u001b[0;34m,\u001b[0m \u001b[0my\u001b[0m\u001b[0;34m=\u001b[0m\u001b[0;32mNone\u001b[0m\u001b[0;34m,\u001b[0m \u001b[0mgroups\u001b[0m\u001b[0;34m=\u001b[0m\u001b[0;32mNone\u001b[0m\u001b[0;34m)\u001b[0m\u001b[0;34m:\u001b[0m\u001b[0;34m\u001b[0m\u001b[0;34m\u001b[0m\u001b[0m\n\u001b[0;32m--> 692\u001b[0;31m         \u001b[0mtest_folds\u001b[0m \u001b[0;34m=\u001b[0m \u001b[0mself\u001b[0m\u001b[0;34m.\u001b[0m\u001b[0m_make_test_folds\u001b[0m\u001b[0;34m(\u001b[0m\u001b[0mX\u001b[0m\u001b[0;34m,\u001b[0m \u001b[0my\u001b[0m\u001b[0;34m)\u001b[0m\u001b[0;34m\u001b[0m\u001b[0;34m\u001b[0m\u001b[0m\n\u001b[0m\u001b[1;32m    693\u001b[0m         \u001b[0;32mfor\u001b[0m \u001b[0mi\u001b[0m \u001b[0;32min\u001b[0m \u001b[0mrange\u001b[0m\u001b[0;34m(\u001b[0m\u001b[0mself\u001b[0m\u001b[0;34m.\u001b[0m\u001b[0mn_splits\u001b[0m\u001b[0;34m)\u001b[0m\u001b[0;34m:\u001b[0m\u001b[0;34m\u001b[0m\u001b[0;34m\u001b[0m\u001b[0m\n\u001b[1;32m    694\u001b[0m             \u001b[0;32myield\u001b[0m \u001b[0mtest_folds\u001b[0m \u001b[0;34m==\u001b[0m \u001b[0mi\u001b[0m\u001b[0;34m\u001b[0m\u001b[0;34m\u001b[0m\u001b[0m\n",
            "\u001b[0;32m/usr/local/lib/python3.7/dist-packages/sklearn/model_selection/_split.py\u001b[0m in \u001b[0;36m_make_test_folds\u001b[0;34m(self, X, y)\u001b[0m\n\u001b[1;32m    644\u001b[0m             raise ValueError(\n\u001b[1;32m    645\u001b[0m                 'Supported target types are: {}. Got {!r} instead.'.format(\n\u001b[0;32m--> 646\u001b[0;31m                     allowed_target_types, type_of_target_y))\n\u001b[0m\u001b[1;32m    647\u001b[0m \u001b[0;34m\u001b[0m\u001b[0m\n\u001b[1;32m    648\u001b[0m         \u001b[0my\u001b[0m \u001b[0;34m=\u001b[0m \u001b[0mcolumn_or_1d\u001b[0m\u001b[0;34m(\u001b[0m\u001b[0my\u001b[0m\u001b[0;34m)\u001b[0m\u001b[0;34m\u001b[0m\u001b[0;34m\u001b[0m\u001b[0m\n",
            "\u001b[0;31mValueError\u001b[0m: Supported target types are: ('binary', 'multiclass'). Got 'multiclass-multioutput' instead."
          ]
        }
      ]
    },
    {
      "cell_type": "code",
      "metadata": {
        "colab": {
          "base_uri": "https://localhost:8080/",
          "height": 318
        },
        "id": "FKNdEd3mhD8M",
        "outputId": "7a9f0e96-200e-41ce-b5ab-fb756263a0ad"
      },
      "source": [
        "pred = xgb_clf.predict(test)"
      ],
      "execution_count": null,
      "outputs": [
        {
          "output_type": "error",
          "ename": "XGBoostError",
          "evalue": "ignored",
          "traceback": [
            "\u001b[0;31m---------------------------------------------------------------------------\u001b[0m",
            "\u001b[0;31mXGBoostError\u001b[0m                              Traceback (most recent call last)",
            "\u001b[0;32m<ipython-input-35-005fcd7d9c12>\u001b[0m in \u001b[0;36m<module>\u001b[0;34m()\u001b[0m\n\u001b[0;32m----> 1\u001b[0;31m \u001b[0mpred\u001b[0m \u001b[0;34m=\u001b[0m \u001b[0mxgb_clf\u001b[0m\u001b[0;34m.\u001b[0m\u001b[0mpredict\u001b[0m\u001b[0;34m(\u001b[0m\u001b[0mtest\u001b[0m\u001b[0;34m)\u001b[0m\u001b[0;34m\u001b[0m\u001b[0;34m\u001b[0m\u001b[0m\n\u001b[0m",
            "\u001b[0;32m/usr/local/lib/python3.7/dist-packages/xgboost/sklearn.py\u001b[0m in \u001b[0;36mpredict\u001b[0;34m(self, data, output_margin, ntree_limit, validate_features)\u001b[0m\n\u001b[1;32m    786\u001b[0m         \u001b[0;32mif\u001b[0m \u001b[0mntree_limit\u001b[0m \u001b[0;32mis\u001b[0m \u001b[0;32mNone\u001b[0m\u001b[0;34m:\u001b[0m\u001b[0;34m\u001b[0m\u001b[0;34m\u001b[0m\u001b[0m\n\u001b[1;32m    787\u001b[0m             \u001b[0mntree_limit\u001b[0m \u001b[0;34m=\u001b[0m \u001b[0mgetattr\u001b[0m\u001b[0;34m(\u001b[0m\u001b[0mself\u001b[0m\u001b[0;34m,\u001b[0m \u001b[0;34m\"best_ntree_limit\"\u001b[0m\u001b[0;34m,\u001b[0m \u001b[0;36m0\u001b[0m\u001b[0;34m)\u001b[0m\u001b[0;34m\u001b[0m\u001b[0;34m\u001b[0m\u001b[0m\n\u001b[0;32m--> 788\u001b[0;31m         class_probs = self.get_booster().predict(test_dmatrix,\n\u001b[0m\u001b[1;32m    789\u001b[0m                                                  \u001b[0moutput_margin\u001b[0m\u001b[0;34m=\u001b[0m\u001b[0moutput_margin\u001b[0m\u001b[0;34m,\u001b[0m\u001b[0;34m\u001b[0m\u001b[0;34m\u001b[0m\u001b[0m\n\u001b[1;32m    790\u001b[0m                                                  \u001b[0mntree_limit\u001b[0m\u001b[0;34m=\u001b[0m\u001b[0mntree_limit\u001b[0m\u001b[0;34m,\u001b[0m\u001b[0;34m\u001b[0m\u001b[0;34m\u001b[0m\u001b[0m\n",
            "\u001b[0;32m/usr/local/lib/python3.7/dist-packages/xgboost/sklearn.py\u001b[0m in \u001b[0;36mget_booster\u001b[0;34m(self)\u001b[0m\n\u001b[1;32m    191\u001b[0m         \"\"\"\n\u001b[1;32m    192\u001b[0m         \u001b[0;32mif\u001b[0m \u001b[0mself\u001b[0m\u001b[0;34m.\u001b[0m\u001b[0m_Booster\u001b[0m \u001b[0;32mis\u001b[0m \u001b[0;32mNone\u001b[0m\u001b[0;34m:\u001b[0m\u001b[0;34m\u001b[0m\u001b[0;34m\u001b[0m\u001b[0m\n\u001b[0;32m--> 193\u001b[0;31m             \u001b[0;32mraise\u001b[0m \u001b[0mXGBoostError\u001b[0m\u001b[0;34m(\u001b[0m\u001b[0;34m'need to call fit or load_model beforehand'\u001b[0m\u001b[0;34m)\u001b[0m\u001b[0;34m\u001b[0m\u001b[0;34m\u001b[0m\u001b[0m\n\u001b[0m\u001b[1;32m    194\u001b[0m         \u001b[0;32mreturn\u001b[0m \u001b[0mself\u001b[0m\u001b[0;34m.\u001b[0m\u001b[0m_Booster\u001b[0m\u001b[0;34m\u001b[0m\u001b[0;34m\u001b[0m\u001b[0m\n\u001b[1;32m    195\u001b[0m \u001b[0;34m\u001b[0m\u001b[0m\n",
            "\u001b[0;31mXGBoostError\u001b[0m: need to call fit or load_model beforehand"
          ]
        }
      ]
    },
    {
      "cell_type": "code",
      "metadata": {
        "id": "MPJUYw-ahLqi"
      },
      "source": [
        "from sklearn import metrics\n",
        "metrics.f1_score(y_test, pred, average='macro')"
      ],
      "execution_count": null,
      "outputs": []
    },
    {
      "cell_type": "code",
      "metadata": {
        "id": "iy01kZMlhggz"
      },
      "source": [
        "pred"
      ],
      "execution_count": null,
      "outputs": []
    },
    {
      "cell_type": "code",
      "metadata": {
        "id": "zucCDBz1hhSg"
      },
      "source": [
        "submission[['label_역률평균','label_전류고조파평균','label_전압고조파평균']] = pred\n",
        "submission.to_csv('baseline_xgboost.csv',index=False)"
      ],
      "execution_count": null,
      "outputs": []
    },
    {
      "cell_type": "code",
      "metadata": {
        "id": "mYGoAjo3hnFq"
      },
      "source": [
        ""
      ],
      "execution_count": null,
      "outputs": []
    }
  ]
}